{
 "cells": [
  {
   "cell_type": "markdown",
   "metadata": {},
   "source": [
    "# Project: Investigate a No-Show Medical Appointments in Brazil - May 2016\n",
    "\n",
    "## Table of Contents\n",
    "<ul>\n",
    "<li><a href=\"#intro\">Introduction</a></li>\n",
    "<li><a href=\"#wrangling\">Data Wrangling</a></li>\n",
    "<li><a href=\"#eda\">Exploratory Data Analysis</a></li>\n",
    "<li><a href=\"#conclusions\">Conclusions</a></li>\n",
    "</ul>"
   ]
  },
  {
   "cell_type": "markdown",
   "metadata": {},
   "source": [
    "<a id='intro'></a>\n",
    "## Introduction\n",
    "This project analyses dataset which is filled with information from 100,000 medical appointments in Brazil. The aim of this project is to analyse factors/variables that determine whether a patient showed up for his/her appointment and to predict how these factors influence a patient's show/no-show."
   ]
  },
  {
   "cell_type": "markdown",
   "metadata": {},
   "source": [
    "### Dataset Description \n",
    "This dataset consists of 100k medical appointments spooled in Brazil in May, 2016. It has 14 variables which contain characteristics that give information about the individual patients.\n",
    "\n",
    "There are 14 variables (columns) contained in the dataset as follows:\n",
    "\n",
    "Patient Id - Id of the patient\n",
    "\n",
    "AppointmentID - Id number of the appointment\n",
    "\n",
    "Gender - Male or Female \n",
    "\n",
    "Scheduled Day - Day the patienta set up their appointment.\n",
    "\n",
    "Appointment Day - Date of Appointment\n",
    "\n",
    "Age - Patient's age\n",
    "\n",
    "Neighbourhood -  Location of the hospital\n",
    "\n",
    "Scholarship - indicates whether or not the patient is enrolled in Brasilian welfare program \"Bolsa Família\" (More information can be found here: <a href=\"https://www.google.com/url?q=https://en.wikipedia.org/wiki/Bolsa_Fam%25C3%25ADlia&sa=D&source=editors&ust=1659615590301987&usg=AOvVaw2TqZH58rcZvHikI6Ogsxqj\" target=\"_blank\">Read More</a>)\n",
    "\n",
    "Hypertension - Health condition if present (1 or 0)\n",
    "\n",
    "Diabetes     - Health condition if present (1 or 0)\n",
    "\n",
    "Alcoholism   - Health condition if present (1 or 0)\n",
    "\n",
    "Handcap      - Health condition if present\n",
    "\n",
    "SMS_received - Message sent to patient (1 or 0)\n",
    "\n",
    "No-show   - if the patient showed up to their appointment or not. **The column indicates no or yes. It means 'No' if the patient showed up to their appointment, and ‘Yes’ if they did not show up**."
   ]
  },
  {
   "cell_type": "markdown",
   "metadata": {},
   "source": [
    "\n",
    "### Question(s) for Analysis\n",
    "\n",
    "1. What is the proportion of those that showed up for the appointment and those who were absent? \n",
    "\n",
    "2. Based on the patient's id; how many patients were new vs returning (if there are duplicates) and how does this influence the No-Show variable?\n",
    "\n",
    "3. What is the influence of gender on no-show appointments?\n",
    "\n",
    "5. How many patients were in each age group and based on the age group, what is the no-show distribution?\n",
    "\n",
    "6. What is the proportion of the gender in each age group?\n",
    "\n",
    "7. What is the relationship between gender, age_group and how does it influence attendance?\n",
    "\n",
    "8. What is the relationship between gender, age_group and how does it influence attendance?\n",
    "\n",
    "9. Does the scholarship (welfare) program influence a patient to show up for appointments?\n",
    "\n",
    "10. What is the relationship between scholarship, returning_patient, gender, age_group and how does it influence attendance?\n",
    "\n",
    "11. Do health challenges (alcoholism, diabetes, hypertension) influence a patient to show up for appointments?\n",
    "\n",
    "12. Does text reminder influence a patient to show up for appointments?\n",
    "\n",
    "13. Do health challenges (alcoholism, diabetes, hypertension) influence a patient to show up for appointments?"
   ]
  },
  {
   "cell_type": "code",
   "execution_count": 1,
   "metadata": {},
   "outputs": [],
   "source": [
    "# Use this cell to set up import statements for all of the packages that you\n",
    "#   plan to use.\n",
    "import pandas as pd\n",
    "import numpy as np\n",
    "import matplotlib.pyplot as plt\n",
    "import seaborn as sns\n",
    "% matplotlib inline\n",
    "sns.set_style('darkgrid')"
   ]
  },
  {
   "cell_type": "markdown",
   "metadata": {},
   "source": [
    "<a id='wrangling'></a>\n",
    "## Data Wrangling\n",
    "\n",
    "\n",
    "### General Properties\n",
    "\n",
    "Assessing Data by doing the following:\n",
    "- load the dataset\n",
    "- check for size of dataset\n",
    "- view datatypes of the columns and also check for missing values\n",
    "- Get information across the datasets in relating to the values such as min, max, mean, median etc"
   ]
  },
  {
   "cell_type": "code",
   "execution_count": 2,
   "metadata": {},
   "outputs": [],
   "source": [
    "#Loading the data\n",
    "df = pd.read_csv('/home/workspace/Database_No_show_appointments/noshowappointments-kagglev2-may-2016.csv')"
   ]
  },
  {
   "cell_type": "code",
   "execution_count": 3,
   "metadata": {},
   "outputs": [
    {
     "data": {
      "text/plain": [
       "(110527, 14)"
      ]
     },
     "execution_count": 3,
     "metadata": {},
     "output_type": "execute_result"
    }
   ],
   "source": [
    "#View size of dataset\n",
    "df.shape"
   ]
  },
  {
   "cell_type": "code",
   "execution_count": 4,
   "metadata": {
    "scrolled": true
   },
   "outputs": [
    {
     "name": "stdout",
     "output_type": "stream",
     "text": [
      "<class 'pandas.core.frame.DataFrame'>\n",
      "RangeIndex: 110527 entries, 0 to 110526\n",
      "Data columns (total 14 columns):\n",
      "PatientId         110527 non-null float64\n",
      "AppointmentID     110527 non-null int64\n",
      "Gender            110527 non-null object\n",
      "ScheduledDay      110527 non-null object\n",
      "AppointmentDay    110527 non-null object\n",
      "Age               110527 non-null int64\n",
      "Neighbourhood     110527 non-null object\n",
      "Scholarship       110527 non-null int64\n",
      "Hipertension      110527 non-null int64\n",
      "Diabetes          110527 non-null int64\n",
      "Alcoholism        110527 non-null int64\n",
      "Handcap           110527 non-null int64\n",
      "SMS_received      110527 non-null int64\n",
      "No-show           110527 non-null object\n",
      "dtypes: float64(1), int64(8), object(5)\n",
      "memory usage: 11.8+ MB\n"
     ]
    }
   ],
   "source": [
    "#using info() function to get a concise summary of the dataset;\n",
    "df.info()"
   ]
  },
  {
   "cell_type": "code",
   "execution_count": 5,
   "metadata": {},
   "outputs": [
    {
     "data": {
      "text/html": [
       "<div>\n",
       "<style scoped>\n",
       "    .dataframe tbody tr th:only-of-type {\n",
       "        vertical-align: middle;\n",
       "    }\n",
       "\n",
       "    .dataframe tbody tr th {\n",
       "        vertical-align: top;\n",
       "    }\n",
       "\n",
       "    .dataframe thead th {\n",
       "        text-align: right;\n",
       "    }\n",
       "</style>\n",
       "<table border=\"1\" class=\"dataframe\">\n",
       "  <thead>\n",
       "    <tr style=\"text-align: right;\">\n",
       "      <th></th>\n",
       "      <th>PatientId</th>\n",
       "      <th>AppointmentID</th>\n",
       "      <th>Age</th>\n",
       "      <th>Scholarship</th>\n",
       "      <th>Hipertension</th>\n",
       "      <th>Diabetes</th>\n",
       "      <th>Alcoholism</th>\n",
       "      <th>Handcap</th>\n",
       "      <th>SMS_received</th>\n",
       "    </tr>\n",
       "  </thead>\n",
       "  <tbody>\n",
       "    <tr>\n",
       "      <th>count</th>\n",
       "      <td>1.105270e+05</td>\n",
       "      <td>1.105270e+05</td>\n",
       "      <td>110527.000000</td>\n",
       "      <td>110527.000000</td>\n",
       "      <td>110527.000000</td>\n",
       "      <td>110527.000000</td>\n",
       "      <td>110527.000000</td>\n",
       "      <td>110527.000000</td>\n",
       "      <td>110527.000000</td>\n",
       "    </tr>\n",
       "    <tr>\n",
       "      <th>mean</th>\n",
       "      <td>1.474963e+14</td>\n",
       "      <td>5.675305e+06</td>\n",
       "      <td>37.088874</td>\n",
       "      <td>0.098266</td>\n",
       "      <td>0.197246</td>\n",
       "      <td>0.071865</td>\n",
       "      <td>0.030400</td>\n",
       "      <td>0.022248</td>\n",
       "      <td>0.321026</td>\n",
       "    </tr>\n",
       "    <tr>\n",
       "      <th>std</th>\n",
       "      <td>2.560949e+14</td>\n",
       "      <td>7.129575e+04</td>\n",
       "      <td>23.110205</td>\n",
       "      <td>0.297675</td>\n",
       "      <td>0.397921</td>\n",
       "      <td>0.258265</td>\n",
       "      <td>0.171686</td>\n",
       "      <td>0.161543</td>\n",
       "      <td>0.466873</td>\n",
       "    </tr>\n",
       "    <tr>\n",
       "      <th>min</th>\n",
       "      <td>3.921784e+04</td>\n",
       "      <td>5.030230e+06</td>\n",
       "      <td>-1.000000</td>\n",
       "      <td>0.000000</td>\n",
       "      <td>0.000000</td>\n",
       "      <td>0.000000</td>\n",
       "      <td>0.000000</td>\n",
       "      <td>0.000000</td>\n",
       "      <td>0.000000</td>\n",
       "    </tr>\n",
       "    <tr>\n",
       "      <th>25%</th>\n",
       "      <td>4.172614e+12</td>\n",
       "      <td>5.640286e+06</td>\n",
       "      <td>18.000000</td>\n",
       "      <td>0.000000</td>\n",
       "      <td>0.000000</td>\n",
       "      <td>0.000000</td>\n",
       "      <td>0.000000</td>\n",
       "      <td>0.000000</td>\n",
       "      <td>0.000000</td>\n",
       "    </tr>\n",
       "    <tr>\n",
       "      <th>50%</th>\n",
       "      <td>3.173184e+13</td>\n",
       "      <td>5.680573e+06</td>\n",
       "      <td>37.000000</td>\n",
       "      <td>0.000000</td>\n",
       "      <td>0.000000</td>\n",
       "      <td>0.000000</td>\n",
       "      <td>0.000000</td>\n",
       "      <td>0.000000</td>\n",
       "      <td>0.000000</td>\n",
       "    </tr>\n",
       "    <tr>\n",
       "      <th>75%</th>\n",
       "      <td>9.439172e+13</td>\n",
       "      <td>5.725524e+06</td>\n",
       "      <td>55.000000</td>\n",
       "      <td>0.000000</td>\n",
       "      <td>0.000000</td>\n",
       "      <td>0.000000</td>\n",
       "      <td>0.000000</td>\n",
       "      <td>0.000000</td>\n",
       "      <td>1.000000</td>\n",
       "    </tr>\n",
       "    <tr>\n",
       "      <th>max</th>\n",
       "      <td>9.999816e+14</td>\n",
       "      <td>5.790484e+06</td>\n",
       "      <td>115.000000</td>\n",
       "      <td>1.000000</td>\n",
       "      <td>1.000000</td>\n",
       "      <td>1.000000</td>\n",
       "      <td>1.000000</td>\n",
       "      <td>4.000000</td>\n",
       "      <td>1.000000</td>\n",
       "    </tr>\n",
       "  </tbody>\n",
       "</table>\n",
       "</div>"
      ],
      "text/plain": [
       "          PatientId  AppointmentID            Age    Scholarship  \\\n",
       "count  1.105270e+05   1.105270e+05  110527.000000  110527.000000   \n",
       "mean   1.474963e+14   5.675305e+06      37.088874       0.098266   \n",
       "std    2.560949e+14   7.129575e+04      23.110205       0.297675   \n",
       "min    3.921784e+04   5.030230e+06      -1.000000       0.000000   \n",
       "25%    4.172614e+12   5.640286e+06      18.000000       0.000000   \n",
       "50%    3.173184e+13   5.680573e+06      37.000000       0.000000   \n",
       "75%    9.439172e+13   5.725524e+06      55.000000       0.000000   \n",
       "max    9.999816e+14   5.790484e+06     115.000000       1.000000   \n",
       "\n",
       "        Hipertension       Diabetes     Alcoholism        Handcap  \\\n",
       "count  110527.000000  110527.000000  110527.000000  110527.000000   \n",
       "mean        0.197246       0.071865       0.030400       0.022248   \n",
       "std         0.397921       0.258265       0.171686       0.161543   \n",
       "min         0.000000       0.000000       0.000000       0.000000   \n",
       "25%         0.000000       0.000000       0.000000       0.000000   \n",
       "50%         0.000000       0.000000       0.000000       0.000000   \n",
       "75%         0.000000       0.000000       0.000000       0.000000   \n",
       "max         1.000000       1.000000       1.000000       4.000000   \n",
       "\n",
       "        SMS_received  \n",
       "count  110527.000000  \n",
       "mean        0.321026  \n",
       "std         0.466873  \n",
       "min         0.000000  \n",
       "25%         0.000000  \n",
       "50%         0.000000  \n",
       "75%         1.000000  \n",
       "max         1.000000  "
      ]
     },
     "execution_count": 5,
     "metadata": {},
     "output_type": "execute_result"
    }
   ],
   "source": [
    "#Get information across the datasets in relating to the values such as min, max, mean, median etc\n",
    "df.describe()"
   ]
  },
  {
   "cell_type": "code",
   "execution_count": 6,
   "metadata": {},
   "outputs": [
    {
     "data": {
      "text/plain": [
       "0"
      ]
     },
     "execution_count": 6,
     "metadata": {},
     "output_type": "execute_result"
    }
   ],
   "source": [
    "#Check for duplicates\n",
    "sum(df.duplicated())"
   ]
  },
  {
   "cell_type": "code",
   "execution_count": 7,
   "metadata": {},
   "outputs": [
    {
     "data": {
      "text/plain": [
       "PatientId          62299\n",
       "AppointmentID     110527\n",
       "Gender                 2\n",
       "ScheduledDay      103549\n",
       "AppointmentDay        27\n",
       "Age                  104\n",
       "Neighbourhood         81\n",
       "Scholarship            2\n",
       "Hipertension           2\n",
       "Diabetes               2\n",
       "Alcoholism             2\n",
       "Handcap                5\n",
       "SMS_received           2\n",
       "No-show                2\n",
       "dtype: int64"
      ]
     },
     "execution_count": 7,
     "metadata": {},
     "output_type": "execute_result"
    }
   ],
   "source": [
    "#Check for unique not null values\n",
    "df.nunique()"
   ]
  },
  {
   "cell_type": "code",
   "execution_count": 8,
   "metadata": {},
   "outputs": [
    {
     "data": {
      "text/html": [
       "<div>\n",
       "<style scoped>\n",
       "    .dataframe tbody tr th:only-of-type {\n",
       "        vertical-align: middle;\n",
       "    }\n",
       "\n",
       "    .dataframe tbody tr th {\n",
       "        vertical-align: top;\n",
       "    }\n",
       "\n",
       "    .dataframe thead th {\n",
       "        text-align: right;\n",
       "    }\n",
       "</style>\n",
       "<table border=\"1\" class=\"dataframe\">\n",
       "  <thead>\n",
       "    <tr style=\"text-align: right;\">\n",
       "      <th></th>\n",
       "      <th>PatientId</th>\n",
       "      <th>AppointmentID</th>\n",
       "      <th>Gender</th>\n",
       "      <th>ScheduledDay</th>\n",
       "      <th>AppointmentDay</th>\n",
       "      <th>Age</th>\n",
       "      <th>Neighbourhood</th>\n",
       "      <th>Scholarship</th>\n",
       "      <th>Hipertension</th>\n",
       "      <th>Diabetes</th>\n",
       "      <th>Alcoholism</th>\n",
       "      <th>Handcap</th>\n",
       "      <th>SMS_received</th>\n",
       "      <th>No-show</th>\n",
       "    </tr>\n",
       "  </thead>\n",
       "  <tbody>\n",
       "    <tr>\n",
       "      <th>0</th>\n",
       "      <td>2.987250e+13</td>\n",
       "      <td>5642903</td>\n",
       "      <td>F</td>\n",
       "      <td>2016-04-29T18:38:08Z</td>\n",
       "      <td>2016-04-29T00:00:00Z</td>\n",
       "      <td>62</td>\n",
       "      <td>JARDIM DA PENHA</td>\n",
       "      <td>0</td>\n",
       "      <td>1</td>\n",
       "      <td>0</td>\n",
       "      <td>0</td>\n",
       "      <td>0</td>\n",
       "      <td>0</td>\n",
       "      <td>No</td>\n",
       "    </tr>\n",
       "    <tr>\n",
       "      <th>1</th>\n",
       "      <td>5.589978e+14</td>\n",
       "      <td>5642503</td>\n",
       "      <td>M</td>\n",
       "      <td>2016-04-29T16:08:27Z</td>\n",
       "      <td>2016-04-29T00:00:00Z</td>\n",
       "      <td>56</td>\n",
       "      <td>JARDIM DA PENHA</td>\n",
       "      <td>0</td>\n",
       "      <td>0</td>\n",
       "      <td>0</td>\n",
       "      <td>0</td>\n",
       "      <td>0</td>\n",
       "      <td>0</td>\n",
       "      <td>No</td>\n",
       "    </tr>\n",
       "    <tr>\n",
       "      <th>2</th>\n",
       "      <td>4.262962e+12</td>\n",
       "      <td>5642549</td>\n",
       "      <td>F</td>\n",
       "      <td>2016-04-29T16:19:04Z</td>\n",
       "      <td>2016-04-29T00:00:00Z</td>\n",
       "      <td>62</td>\n",
       "      <td>MATA DA PRAIA</td>\n",
       "      <td>0</td>\n",
       "      <td>0</td>\n",
       "      <td>0</td>\n",
       "      <td>0</td>\n",
       "      <td>0</td>\n",
       "      <td>0</td>\n",
       "      <td>No</td>\n",
       "    </tr>\n",
       "    <tr>\n",
       "      <th>3</th>\n",
       "      <td>8.679512e+11</td>\n",
       "      <td>5642828</td>\n",
       "      <td>F</td>\n",
       "      <td>2016-04-29T17:29:31Z</td>\n",
       "      <td>2016-04-29T00:00:00Z</td>\n",
       "      <td>8</td>\n",
       "      <td>PONTAL DE CAMBURI</td>\n",
       "      <td>0</td>\n",
       "      <td>0</td>\n",
       "      <td>0</td>\n",
       "      <td>0</td>\n",
       "      <td>0</td>\n",
       "      <td>0</td>\n",
       "      <td>No</td>\n",
       "    </tr>\n",
       "    <tr>\n",
       "      <th>4</th>\n",
       "      <td>8.841186e+12</td>\n",
       "      <td>5642494</td>\n",
       "      <td>F</td>\n",
       "      <td>2016-04-29T16:07:23Z</td>\n",
       "      <td>2016-04-29T00:00:00Z</td>\n",
       "      <td>56</td>\n",
       "      <td>JARDIM DA PENHA</td>\n",
       "      <td>0</td>\n",
       "      <td>1</td>\n",
       "      <td>1</td>\n",
       "      <td>0</td>\n",
       "      <td>0</td>\n",
       "      <td>0</td>\n",
       "      <td>No</td>\n",
       "    </tr>\n",
       "  </tbody>\n",
       "</table>\n",
       "</div>"
      ],
      "text/plain": [
       "      PatientId  AppointmentID Gender          ScheduledDay  \\\n",
       "0  2.987250e+13        5642903      F  2016-04-29T18:38:08Z   \n",
       "1  5.589978e+14        5642503      M  2016-04-29T16:08:27Z   \n",
       "2  4.262962e+12        5642549      F  2016-04-29T16:19:04Z   \n",
       "3  8.679512e+11        5642828      F  2016-04-29T17:29:31Z   \n",
       "4  8.841186e+12        5642494      F  2016-04-29T16:07:23Z   \n",
       "\n",
       "         AppointmentDay  Age      Neighbourhood  Scholarship  Hipertension  \\\n",
       "0  2016-04-29T00:00:00Z   62    JARDIM DA PENHA            0             1   \n",
       "1  2016-04-29T00:00:00Z   56    JARDIM DA PENHA            0             0   \n",
       "2  2016-04-29T00:00:00Z   62      MATA DA PRAIA            0             0   \n",
       "3  2016-04-29T00:00:00Z    8  PONTAL DE CAMBURI            0             0   \n",
       "4  2016-04-29T00:00:00Z   56    JARDIM DA PENHA            0             1   \n",
       "\n",
       "   Diabetes  Alcoholism  Handcap  SMS_received No-show  \n",
       "0         0           0        0             0      No  \n",
       "1         0           0        0             0      No  \n",
       "2         0           0        0             0      No  \n",
       "3         0           0        0             0      No  \n",
       "4         1           0        0             0      No  "
      ]
     },
     "execution_count": 8,
     "metadata": {},
     "output_type": "execute_result"
    }
   ],
   "source": [
    "#Read the first few rows to see what the dataset contains\n",
    "df.head()"
   ]
  },
  {
   "cell_type": "code",
   "execution_count": 9,
   "metadata": {},
   "outputs": [
    {
     "name": "stdout",
     "output_type": "stream",
     "text": [
      "[1 0]\n"
     ]
    }
   ],
   "source": [
    "#Checking the unique value of health conditions/physical challenges/social factors, gender, sms_received, no_show\n",
    "#1. hypertension\n",
    "print(df['Hipertension'].unique())"
   ]
  },
  {
   "cell_type": "code",
   "execution_count": 10,
   "metadata": {},
   "outputs": [
    {
     "name": "stdout",
     "output_type": "stream",
     "text": [
      "[0 1]\n"
     ]
    }
   ],
   "source": [
    "#2. diabetes\n",
    "print(df['Diabetes'].unique())"
   ]
  },
  {
   "cell_type": "code",
   "execution_count": 11,
   "metadata": {},
   "outputs": [
    {
     "name": "stdout",
     "output_type": "stream",
     "text": [
      "[0 1]\n"
     ]
    }
   ],
   "source": [
    "#3. alcoholism\n",
    "print(df['Alcoholism'].unique())"
   ]
  },
  {
   "cell_type": "code",
   "execution_count": 12,
   "metadata": {},
   "outputs": [
    {
     "name": "stdout",
     "output_type": "stream",
     "text": [
      "[0 1 2 3 4]\n"
     ]
    }
   ],
   "source": [
    "#4. handicap\n",
    "print(df['Handcap'].unique())"
   ]
  },
  {
   "cell_type": "code",
   "execution_count": 13,
   "metadata": {},
   "outputs": [
    {
     "name": "stdout",
     "output_type": "stream",
     "text": [
      "['F' 'M']\n"
     ]
    }
   ],
   "source": [
    "#6. gender\n",
    "print(df['Gender'].unique())"
   ]
  },
  {
   "cell_type": "code",
   "execution_count": 14,
   "metadata": {},
   "outputs": [
    {
     "name": "stdout",
     "output_type": "stream",
     "text": [
      "[0 1]\n"
     ]
    }
   ],
   "source": [
    "#7. sms_received\n",
    "print(df['SMS_received'].unique())"
   ]
  },
  {
   "cell_type": "code",
   "execution_count": 15,
   "metadata": {},
   "outputs": [
    {
     "name": "stdout",
     "output_type": "stream",
     "text": [
      "['No' 'Yes']\n"
     ]
    }
   ],
   "source": [
    "#8. no_show\n",
    "print(df['No-show'].unique())"
   ]
  },
  {
   "cell_type": "markdown",
   "metadata": {},
   "source": [
    "From the output, I can deduce the following:\n",
    "- There are 110527 rows and 14 columns in this dataset.\n",
    "- there are no missing values\n",
    "- the columns are not properly labelled for easy read and use\n",
    "- scheduled day and appointment day columns are in string datatype format (object)\n",
    "- the patient id column is in float datatype format\n",
    "- based on important note stipulated in the Udacity Google repository overview for no-show column; it would be best to change the name of the column to something appropriate to avoid confusion or having to state the note in every section. \n",
    "- As seen from the output of the age column, an age of -1 is impossible. The particular row will not be needed hence dropping it as it would affect other variables considering the fact that it has other values recorded.\n",
    "- About 25% of the patients are 18years and below whilst the median age is around 37years. About 75% are younger than or equal to 55years. Maximum age is 115years\n",
    "- There are no duplicate values\n",
    "- There are no null values\n",
    "- As seen from the output gotten from the unique() function, we don't have much information in the documentation as to what the handicap values (0-4) depict; rather it was stated as True or False. I also checked the source on Kaggle (discussion channel), the dataset owner couldn't ascertain exactly what it signifies."
   ]
  },
  {
   "cell_type": "markdown",
   "metadata": {},
   "source": [
    "\n",
    "### Data Cleaning\n",
    "#### The following steps will be carried out:\n",
    " - renaming the columns appropriately and adding space where appropriate. Also all column names will be changed to lowercase\n",
    "    - no-show column label will be changed to absent \n",
    " - changing the datatype of the column labels with 'day' words to datetime\n",
    " - Changing the datatype of the patient id column to the right datatype integer considering the type of variable it is\n",
    " - deletion of the age row with -1 value\n",
    " - removal of the appointment column as this wouldn't be needed\n",
    " - deletion of rows with 2,3,4 values in the handicap column"
   ]
  },
  {
   "cell_type": "code",
   "execution_count": 16,
   "metadata": {},
   "outputs": [
    {
     "data": {
      "text/plain": [
       "Index(['patient_id', 'appointment_id', 'gender', 'scheduled_day',\n",
       "       'appointment_day', 'age', 'neighbourhood', 'scholarship',\n",
       "       'hypertension', 'diabetes', 'alcoholism', 'handicap', 'sms_received',\n",
       "       'absent'],\n",
       "      dtype='object')"
      ]
     },
     "execution_count": 16,
     "metadata": {},
     "output_type": "execute_result"
    }
   ],
   "source": [
    "#Cleaning Column labels\n",
    "\n",
    "#1. Correcting the hipertension label\n",
    "df.rename(columns = {'AppointmentID':'Appointment ID', 'Hipertension':'Hypertension', 'PatientId':'Patient Id', 'ScheduledDay':'Scheduled Day', 'AppointmentDay':'Appointment Day', 'Handcap':'Handicap', 'No-show':'Absent'}, inplace=True)\n",
    "\n",
    "#2. Replacing space with underscore and in lowercase\n",
    "df.rename(columns=lambda x: x.strip().lower().replace(\" \", \"_\"), inplace=True)\n",
    "\n",
    "#3. Confirming the updates\n",
    "df.columns"
   ]
  },
  {
   "cell_type": "code",
   "execution_count": 17,
   "metadata": {},
   "outputs": [
    {
     "name": "stdout",
     "output_type": "stream",
     "text": [
      "<class 'pandas.core.frame.DataFrame'>\n",
      "RangeIndex: 110527 entries, 0 to 110526\n",
      "Data columns (total 14 columns):\n",
      "patient_id         110527 non-null int64\n",
      "appointment_id     110527 non-null int64\n",
      "gender             110527 non-null object\n",
      "scheduled_day      110527 non-null datetime64[ns]\n",
      "appointment_day    110527 non-null datetime64[ns]\n",
      "age                110527 non-null int64\n",
      "neighbourhood      110527 non-null object\n",
      "scholarship        110527 non-null int64\n",
      "hypertension       110527 non-null int64\n",
      "diabetes           110527 non-null int64\n",
      "alcoholism         110527 non-null int64\n",
      "handicap           110527 non-null int64\n",
      "sms_received       110527 non-null int64\n",
      "absent             110527 non-null object\n",
      "dtypes: datetime64[ns](2), int64(9), object(3)\n",
      "memory usage: 11.8+ MB\n"
     ]
    }
   ],
   "source": [
    "#Converting the dates columns to datetime datatype\n",
    "day_columns = ['scheduled_day', 'appointment_day']\n",
    "for dc in day_columns:\n",
    "    df[dc] = pd.to_datetime(df[dc])\n",
    "\n",
    "#Converting patient_id column from float to int\n",
    "df['patient_id'] = df['patient_id'].astype(int)\n",
    "\n",
    "#Confirm update\n",
    "df.info()"
   ]
  },
  {
   "cell_type": "code",
   "execution_count": 18,
   "metadata": {
    "scrolled": true
   },
   "outputs": [
    {
     "data": {
      "text/html": [
       "<div>\n",
       "<style scoped>\n",
       "    .dataframe tbody tr th:only-of-type {\n",
       "        vertical-align: middle;\n",
       "    }\n",
       "\n",
       "    .dataframe tbody tr th {\n",
       "        vertical-align: top;\n",
       "    }\n",
       "\n",
       "    .dataframe thead th {\n",
       "        text-align: right;\n",
       "    }\n",
       "</style>\n",
       "<table border=\"1\" class=\"dataframe\">\n",
       "  <thead>\n",
       "    <tr style=\"text-align: right;\">\n",
       "      <th></th>\n",
       "      <th>patient_id</th>\n",
       "      <th>appointment_id</th>\n",
       "      <th>gender</th>\n",
       "      <th>scheduled_day</th>\n",
       "      <th>appointment_day</th>\n",
       "      <th>age</th>\n",
       "      <th>neighbourhood</th>\n",
       "      <th>scholarship</th>\n",
       "      <th>hypertension</th>\n",
       "      <th>diabetes</th>\n",
       "      <th>alcoholism</th>\n",
       "      <th>handicap</th>\n",
       "      <th>sms_received</th>\n",
       "      <th>absent</th>\n",
       "    </tr>\n",
       "  </thead>\n",
       "  <tbody>\n",
       "    <tr>\n",
       "      <th>99832</th>\n",
       "      <td>465943158731293</td>\n",
       "      <td>5775010</td>\n",
       "      <td>F</td>\n",
       "      <td>2016-06-06 08:58:13</td>\n",
       "      <td>2016-06-06</td>\n",
       "      <td>-1</td>\n",
       "      <td>ROMÃO</td>\n",
       "      <td>0</td>\n",
       "      <td>0</td>\n",
       "      <td>0</td>\n",
       "      <td>0</td>\n",
       "      <td>0</td>\n",
       "      <td>0</td>\n",
       "      <td>No</td>\n",
       "    </tr>\n",
       "  </tbody>\n",
       "</table>\n",
       "</div>"
      ],
      "text/plain": [
       "            patient_id  appointment_id gender       scheduled_day  \\\n",
       "99832  465943158731293         5775010      F 2016-06-06 08:58:13   \n",
       "\n",
       "      appointment_day  age neighbourhood  scholarship  hypertension  diabetes  \\\n",
       "99832      2016-06-06   -1         ROMÃO            0             0         0   \n",
       "\n",
       "       alcoholism  handicap  sms_received absent  \n",
       "99832           0         0             0     No  "
      ]
     },
     "execution_count": 18,
     "metadata": {},
     "output_type": "execute_result"
    }
   ],
   "source": [
    "#To view the row containing the age value 0f -1\n",
    "df.query('age == -1')"
   ]
  },
  {
   "cell_type": "code",
   "execution_count": 19,
   "metadata": {},
   "outputs": [],
   "source": [
    "#delete row\n",
    "df.drop(df[df.age == -1].index, inplace=True)"
   ]
  },
  {
   "cell_type": "code",
   "execution_count": 20,
   "metadata": {},
   "outputs": [
    {
     "data": {
      "text/html": [
       "<div>\n",
       "<style scoped>\n",
       "    .dataframe tbody tr th:only-of-type {\n",
       "        vertical-align: middle;\n",
       "    }\n",
       "\n",
       "    .dataframe tbody tr th {\n",
       "        vertical-align: top;\n",
       "    }\n",
       "\n",
       "    .dataframe thead th {\n",
       "        text-align: right;\n",
       "    }\n",
       "</style>\n",
       "<table border=\"1\" class=\"dataframe\">\n",
       "  <thead>\n",
       "    <tr style=\"text-align: right;\">\n",
       "      <th></th>\n",
       "      <th>patient_id</th>\n",
       "      <th>appointment_id</th>\n",
       "      <th>gender</th>\n",
       "      <th>scheduled_day</th>\n",
       "      <th>appointment_day</th>\n",
       "      <th>age</th>\n",
       "      <th>neighbourhood</th>\n",
       "      <th>scholarship</th>\n",
       "      <th>hypertension</th>\n",
       "      <th>diabetes</th>\n",
       "      <th>alcoholism</th>\n",
       "      <th>handicap</th>\n",
       "      <th>sms_received</th>\n",
       "      <th>absent</th>\n",
       "    </tr>\n",
       "  </thead>\n",
       "  <tbody>\n",
       "  </tbody>\n",
       "</table>\n",
       "</div>"
      ],
      "text/plain": [
       "Empty DataFrame\n",
       "Columns: [patient_id, appointment_id, gender, scheduled_day, appointment_day, age, neighbourhood, scholarship, hypertension, diabetes, alcoholism, handicap, sms_received, absent]\n",
       "Index: []"
      ]
     },
     "execution_count": 20,
     "metadata": {},
     "output_type": "execute_result"
    }
   ],
   "source": [
    "#Confirm that the row has been removed\n",
    "df.query('age == -1')"
   ]
  },
  {
   "cell_type": "code",
   "execution_count": 21,
   "metadata": {},
   "outputs": [],
   "source": [
    "#drop the appointment_id column\n",
    "df.drop(['appointment_id'], axis=1, inplace=True)"
   ]
  },
  {
   "cell_type": "code",
   "execution_count": 22,
   "metadata": {},
   "outputs": [
    {
     "data": {
      "text/html": [
       "<div>\n",
       "<style scoped>\n",
       "    .dataframe tbody tr th:only-of-type {\n",
       "        vertical-align: middle;\n",
       "    }\n",
       "\n",
       "    .dataframe tbody tr th {\n",
       "        vertical-align: top;\n",
       "    }\n",
       "\n",
       "    .dataframe thead th {\n",
       "        text-align: right;\n",
       "    }\n",
       "</style>\n",
       "<table border=\"1\" class=\"dataframe\">\n",
       "  <thead>\n",
       "    <tr style=\"text-align: right;\">\n",
       "      <th></th>\n",
       "      <th>patient_id</th>\n",
       "      <th>gender</th>\n",
       "      <th>scheduled_day</th>\n",
       "      <th>appointment_day</th>\n",
       "      <th>age</th>\n",
       "      <th>neighbourhood</th>\n",
       "      <th>scholarship</th>\n",
       "      <th>hypertension</th>\n",
       "      <th>diabetes</th>\n",
       "      <th>alcoholism</th>\n",
       "      <th>handicap</th>\n",
       "      <th>sms_received</th>\n",
       "      <th>absent</th>\n",
       "    </tr>\n",
       "  </thead>\n",
       "  <tbody>\n",
       "    <tr>\n",
       "      <th>0</th>\n",
       "      <td>29872499824296</td>\n",
       "      <td>F</td>\n",
       "      <td>2016-04-29 18:38:08</td>\n",
       "      <td>2016-04-29</td>\n",
       "      <td>62</td>\n",
       "      <td>JARDIM DA PENHA</td>\n",
       "      <td>0</td>\n",
       "      <td>1</td>\n",
       "      <td>0</td>\n",
       "      <td>0</td>\n",
       "      <td>0</td>\n",
       "      <td>0</td>\n",
       "      <td>No</td>\n",
       "    </tr>\n",
       "  </tbody>\n",
       "</table>\n",
       "</div>"
      ],
      "text/plain": [
       "       patient_id gender       scheduled_day appointment_day  age  \\\n",
       "0  29872499824296      F 2016-04-29 18:38:08      2016-04-29   62   \n",
       "\n",
       "     neighbourhood  scholarship  hypertension  diabetes  alcoholism  handicap  \\\n",
       "0  JARDIM DA PENHA            0             1         0           0         0   \n",
       "\n",
       "   sms_received absent  \n",
       "0             0     No  "
      ]
     },
     "execution_count": 22,
     "metadata": {},
     "output_type": "execute_result"
    }
   ],
   "source": [
    "#\n",
    "df.head(1)"
   ]
  },
  {
   "cell_type": "markdown",
   "metadata": {},
   "source": [
    "<a id='eda'></a>\n",
    "## Exploratory Data Analysis"
   ]
  },
  {
   "cell_type": "markdown",
   "metadata": {},
   "source": [
    "### What is the proportion of those that showed up for the appointment and those who were absent? "
   ]
  },
  {
   "cell_type": "code",
   "execution_count": 23,
   "metadata": {},
   "outputs": [
    {
     "data": {
      "image/png": "[encoded data removed]",
      "text/plain": [
       "<matplotlib.figure.Figure at 0x7fa8faac1cf8>"
      ]
     },
     "metadata": {
      "needs_background": "light"
     },
     "output_type": "display_data"
    }
   ],
   "source": [
    "#Check the attendance\n",
    "df['absent'].value_counts()\n",
    "present_df = df['absent'].value_counts()['No']\n",
    "absent_df = df['absent'].value_counts()['Yes']\n",
    "total_attendance_df = df.absent.size\n",
    "\n",
    "proportion_present = present_df/total_attendance_df\n",
    "proportion_absent = absent_df/total_attendance_df\n",
    "\n",
    "#Set the x coordinate location for each rating group and and width of each bar.\n",
    "ind = np.arange(proportion_present)  # the x locations for the groups\n",
    "width = 4       # the width of the bars\n",
    "\n",
    "# plot bars\n",
    "present_bars = plt.bar(ind, proportion_present, width, color='r', alpha=.7, label='Present')\n",
    "absent_bars = plt.bar(ind + width, proportion_absent, width, color='b', alpha=.7, label='Absent')\n",
    "\n",
    "# title and labels\n",
    "plt.ylabel('Proportion')\n",
    "plt.xlabel('Attendance')\n",
    "plt.title('Proportion by Attendance: Present vs Absent')\n",
    "locations = [0,4]  # xtick locations\n",
    "labels = ['Present', 'Absent']  # xtick labels\n",
    "plt.xticks(locations, labels)\n",
    "\n",
    "# legend\n",
    "plt.legend();"
   ]
  },
  {
   "cell_type": "markdown",
   "metadata": {},
   "source": [
    "From the above chart; it can be deduced that 80% of the patients showed up for their medical appointments, while 20% were absent."
   ]
  },
  {
   "cell_type": "markdown",
   "metadata": {},
   "source": [
    "### Based on the patient's id; how many patients were new vs returning (if there are duplicates) and how does this influence the No-Show variable?"
   ]
  },
  {
   "cell_type": "code",
   "execution_count": 24,
   "metadata": {},
   "outputs": [
    {
     "data": {
      "text/plain": [
       "48228"
      ]
     },
     "execution_count": 24,
     "metadata": {},
     "output_type": "execute_result"
    }
   ],
   "source": [
    "#Check if there are duplicates in the column\n",
    "sum(df['patient_id'].duplicated())"
   ]
  },
  {
   "cell_type": "markdown",
   "metadata": {},
   "source": [
    "Based on the output, I would create column that indicates if a patient is new or not. Based on my research on Stackoverflow and implementation (<a href=\"https://stackoverflow.com/questions/70441469/fill-new-column-with-true-false-for-each-unique-account-with-subset-of-another-c\" target=\"_blank\">Creating a column based on duplicate values</a>"
   ]
  },
  {
   "cell_type": "code",
   "execution_count": 25,
   "metadata": {},
   "outputs": [
    {
     "data": {
      "text/html": [
       "<div>\n",
       "<style scoped>\n",
       "    .dataframe tbody tr th:only-of-type {\n",
       "        vertical-align: middle;\n",
       "    }\n",
       "\n",
       "    .dataframe tbody tr th {\n",
       "        vertical-align: top;\n",
       "    }\n",
       "\n",
       "    .dataframe thead th {\n",
       "        text-align: right;\n",
       "    }\n",
       "</style>\n",
       "<table border=\"1\" class=\"dataframe\">\n",
       "  <thead>\n",
       "    <tr style=\"text-align: right;\">\n",
       "      <th></th>\n",
       "      <th>patient_id</th>\n",
       "      <th>gender</th>\n",
       "      <th>scheduled_day</th>\n",
       "      <th>appointment_day</th>\n",
       "      <th>age</th>\n",
       "      <th>neighbourhood</th>\n",
       "      <th>scholarship</th>\n",
       "      <th>hypertension</th>\n",
       "      <th>diabetes</th>\n",
       "      <th>alcoholism</th>\n",
       "      <th>handicap</th>\n",
       "      <th>sms_received</th>\n",
       "      <th>absent</th>\n",
       "      <th>returning_patient</th>\n",
       "    </tr>\n",
       "  </thead>\n",
       "  <tbody>\n",
       "    <tr>\n",
       "      <th>0</th>\n",
       "      <td>29872499824296</td>\n",
       "      <td>F</td>\n",
       "      <td>2016-04-29 18:38:08</td>\n",
       "      <td>2016-04-29</td>\n",
       "      <td>62</td>\n",
       "      <td>JARDIM DA PENHA</td>\n",
       "      <td>0</td>\n",
       "      <td>1</td>\n",
       "      <td>0</td>\n",
       "      <td>0</td>\n",
       "      <td>0</td>\n",
       "      <td>0</td>\n",
       "      <td>No</td>\n",
       "      <td>True</td>\n",
       "    </tr>\n",
       "    <tr>\n",
       "      <th>1</th>\n",
       "      <td>558997776694438</td>\n",
       "      <td>M</td>\n",
       "      <td>2016-04-29 16:08:27</td>\n",
       "      <td>2016-04-29</td>\n",
       "      <td>56</td>\n",
       "      <td>JARDIM DA PENHA</td>\n",
       "      <td>0</td>\n",
       "      <td>0</td>\n",
       "      <td>0</td>\n",
       "      <td>0</td>\n",
       "      <td>0</td>\n",
       "      <td>0</td>\n",
       "      <td>No</td>\n",
       "      <td>True</td>\n",
       "    </tr>\n",
       "    <tr>\n",
       "      <th>2</th>\n",
       "      <td>4262962299951</td>\n",
       "      <td>F</td>\n",
       "      <td>2016-04-29 16:19:04</td>\n",
       "      <td>2016-04-29</td>\n",
       "      <td>62</td>\n",
       "      <td>MATA DA PRAIA</td>\n",
       "      <td>0</td>\n",
       "      <td>0</td>\n",
       "      <td>0</td>\n",
       "      <td>0</td>\n",
       "      <td>0</td>\n",
       "      <td>0</td>\n",
       "      <td>No</td>\n",
       "      <td>True</td>\n",
       "    </tr>\n",
       "    <tr>\n",
       "      <th>3</th>\n",
       "      <td>867951213174</td>\n",
       "      <td>F</td>\n",
       "      <td>2016-04-29 17:29:31</td>\n",
       "      <td>2016-04-29</td>\n",
       "      <td>8</td>\n",
       "      <td>PONTAL DE CAMBURI</td>\n",
       "      <td>0</td>\n",
       "      <td>0</td>\n",
       "      <td>0</td>\n",
       "      <td>0</td>\n",
       "      <td>0</td>\n",
       "      <td>0</td>\n",
       "      <td>No</td>\n",
       "      <td>True</td>\n",
       "    </tr>\n",
       "    <tr>\n",
       "      <th>4</th>\n",
       "      <td>8841186448183</td>\n",
       "      <td>F</td>\n",
       "      <td>2016-04-29 16:07:23</td>\n",
       "      <td>2016-04-29</td>\n",
       "      <td>56</td>\n",
       "      <td>JARDIM DA PENHA</td>\n",
       "      <td>0</td>\n",
       "      <td>1</td>\n",
       "      <td>1</td>\n",
       "      <td>0</td>\n",
       "      <td>0</td>\n",
       "      <td>0</td>\n",
       "      <td>No</td>\n",
       "      <td>False</td>\n",
       "    </tr>\n",
       "    <tr>\n",
       "      <th>5</th>\n",
       "      <td>95985133231274</td>\n",
       "      <td>F</td>\n",
       "      <td>2016-04-27 08:36:51</td>\n",
       "      <td>2016-04-29</td>\n",
       "      <td>76</td>\n",
       "      <td>REPÚBLICA</td>\n",
       "      <td>0</td>\n",
       "      <td>1</td>\n",
       "      <td>0</td>\n",
       "      <td>0</td>\n",
       "      <td>0</td>\n",
       "      <td>0</td>\n",
       "      <td>No</td>\n",
       "      <td>True</td>\n",
       "    </tr>\n",
       "    <tr>\n",
       "      <th>6</th>\n",
       "      <td>733688164476661</td>\n",
       "      <td>F</td>\n",
       "      <td>2016-04-27 15:05:12</td>\n",
       "      <td>2016-04-29</td>\n",
       "      <td>23</td>\n",
       "      <td>GOIABEIRAS</td>\n",
       "      <td>0</td>\n",
       "      <td>0</td>\n",
       "      <td>0</td>\n",
       "      <td>0</td>\n",
       "      <td>0</td>\n",
       "      <td>0</td>\n",
       "      <td>Yes</td>\n",
       "      <td>False</td>\n",
       "    </tr>\n",
       "    <tr>\n",
       "      <th>7</th>\n",
       "      <td>3449833394123</td>\n",
       "      <td>F</td>\n",
       "      <td>2016-04-27 15:39:58</td>\n",
       "      <td>2016-04-29</td>\n",
       "      <td>39</td>\n",
       "      <td>GOIABEIRAS</td>\n",
       "      <td>0</td>\n",
       "      <td>0</td>\n",
       "      <td>0</td>\n",
       "      <td>0</td>\n",
       "      <td>0</td>\n",
       "      <td>0</td>\n",
       "      <td>Yes</td>\n",
       "      <td>True</td>\n",
       "    </tr>\n",
       "    <tr>\n",
       "      <th>8</th>\n",
       "      <td>56394729949972</td>\n",
       "      <td>F</td>\n",
       "      <td>2016-04-29 08:02:16</td>\n",
       "      <td>2016-04-29</td>\n",
       "      <td>21</td>\n",
       "      <td>ANDORINHAS</td>\n",
       "      <td>0</td>\n",
       "      <td>0</td>\n",
       "      <td>0</td>\n",
       "      <td>0</td>\n",
       "      <td>0</td>\n",
       "      <td>0</td>\n",
       "      <td>No</td>\n",
       "      <td>False</td>\n",
       "    </tr>\n",
       "    <tr>\n",
       "      <th>9</th>\n",
       "      <td>78124564369297</td>\n",
       "      <td>F</td>\n",
       "      <td>2016-04-27 12:48:25</td>\n",
       "      <td>2016-04-29</td>\n",
       "      <td>19</td>\n",
       "      <td>CONQUISTA</td>\n",
       "      <td>0</td>\n",
       "      <td>0</td>\n",
       "      <td>0</td>\n",
       "      <td>0</td>\n",
       "      <td>0</td>\n",
       "      <td>0</td>\n",
       "      <td>No</td>\n",
       "      <td>False</td>\n",
       "    </tr>\n",
       "  </tbody>\n",
       "</table>\n",
       "</div>"
      ],
      "text/plain": [
       "        patient_id gender       scheduled_day appointment_day  age  \\\n",
       "0   29872499824296      F 2016-04-29 18:38:08      2016-04-29   62   \n",
       "1  558997776694438      M 2016-04-29 16:08:27      2016-04-29   56   \n",
       "2    4262962299951      F 2016-04-29 16:19:04      2016-04-29   62   \n",
       "3     867951213174      F 2016-04-29 17:29:31      2016-04-29    8   \n",
       "4    8841186448183      F 2016-04-29 16:07:23      2016-04-29   56   \n",
       "5   95985133231274      F 2016-04-27 08:36:51      2016-04-29   76   \n",
       "6  733688164476661      F 2016-04-27 15:05:12      2016-04-29   23   \n",
       "7    3449833394123      F 2016-04-27 15:39:58      2016-04-29   39   \n",
       "8   56394729949972      F 2016-04-29 08:02:16      2016-04-29   21   \n",
       "9   78124564369297      F 2016-04-27 12:48:25      2016-04-29   19   \n",
       "\n",
       "       neighbourhood  scholarship  hypertension  diabetes  alcoholism  \\\n",
       "0    JARDIM DA PENHA            0             1         0           0   \n",
       "1    JARDIM DA PENHA            0             0         0           0   \n",
       "2      MATA DA PRAIA            0             0         0           0   \n",
       "3  PONTAL DE CAMBURI            0             0         0           0   \n",
       "4    JARDIM DA PENHA            0             1         1           0   \n",
       "5          REPÚBLICA            0             1         0           0   \n",
       "6         GOIABEIRAS            0             0         0           0   \n",
       "7         GOIABEIRAS            0             0         0           0   \n",
       "8         ANDORINHAS            0             0         0           0   \n",
       "9          CONQUISTA            0             0         0           0   \n",
       "\n",
       "   handicap  sms_received absent  returning_patient  \n",
       "0         0             0     No               True  \n",
       "1         0             0     No               True  \n",
       "2         0             0     No               True  \n",
       "3         0             0     No               True  \n",
       "4         0             0     No              False  \n",
       "5         0             0     No               True  \n",
       "6         0             0    Yes              False  \n",
       "7         0             0    Yes               True  \n",
       "8         0             0     No              False  \n",
       "9         0             0     No              False  "
      ]
     },
     "execution_count": 25,
     "metadata": {},
     "output_type": "execute_result"
    }
   ],
   "source": [
    "#Create a column that indicates if a patient is new or returning\n",
    "df[\"patient_id_duplicate\"] = df.duplicated([\"patient_id\"], keep=False)\n",
    "df[\"returning_patient\"] = df.groupby([\"patient_id\"])[\"patient_id_duplicate\"].transform(\"all\")\n",
    "df = df.drop(\"patient_id_duplicate\", axis=1)\n",
    "df.head(10)"
   ]
  },
  {
   "cell_type": "code",
   "execution_count": 26,
   "metadata": {
    "scrolled": true
   },
   "outputs": [
    {
     "data": {
      "text/html": [
       "<div>\n",
       "<style scoped>\n",
       "    .dataframe tbody tr th:only-of-type {\n",
       "        vertical-align: middle;\n",
       "    }\n",
       "\n",
       "    .dataframe tbody tr th {\n",
       "        vertical-align: top;\n",
       "    }\n",
       "\n",
       "    .dataframe thead th {\n",
       "        text-align: right;\n",
       "    }\n",
       "</style>\n",
       "<table border=\"1\" class=\"dataframe\">\n",
       "  <thead>\n",
       "    <tr style=\"text-align: right;\">\n",
       "      <th></th>\n",
       "      <th>patient_id</th>\n",
       "      <th>gender</th>\n",
       "      <th>scheduled_day</th>\n",
       "      <th>appointment_day</th>\n",
       "      <th>age</th>\n",
       "      <th>neighbourhood</th>\n",
       "      <th>scholarship</th>\n",
       "      <th>hypertension</th>\n",
       "      <th>diabetes</th>\n",
       "      <th>alcoholism</th>\n",
       "      <th>handicap</th>\n",
       "      <th>sms_received</th>\n",
       "      <th>absent</th>\n",
       "      <th>returning_patient</th>\n",
       "    </tr>\n",
       "  </thead>\n",
       "  <tbody>\n",
       "    <tr>\n",
       "      <th>1</th>\n",
       "      <td>558997776694438</td>\n",
       "      <td>M</td>\n",
       "      <td>2016-04-29 16:08:27</td>\n",
       "      <td>2016-04-29</td>\n",
       "      <td>56</td>\n",
       "      <td>JARDIM DA PENHA</td>\n",
       "      <td>0</td>\n",
       "      <td>0</td>\n",
       "      <td>0</td>\n",
       "      <td>0</td>\n",
       "      <td>0</td>\n",
       "      <td>0</td>\n",
       "      <td>No</td>\n",
       "      <td>True</td>\n",
       "    </tr>\n",
       "    <tr>\n",
       "      <th>2500</th>\n",
       "      <td>558997776694438</td>\n",
       "      <td>M</td>\n",
       "      <td>2016-04-29 15:20:47</td>\n",
       "      <td>2016-04-29</td>\n",
       "      <td>56</td>\n",
       "      <td>JARDIM DA PENHA</td>\n",
       "      <td>0</td>\n",
       "      <td>0</td>\n",
       "      <td>0</td>\n",
       "      <td>0</td>\n",
       "      <td>0</td>\n",
       "      <td>0</td>\n",
       "      <td>No</td>\n",
       "      <td>True</td>\n",
       "    </tr>\n",
       "  </tbody>\n",
       "</table>\n",
       "</div>"
      ],
      "text/plain": [
       "           patient_id gender       scheduled_day appointment_day  age  \\\n",
       "1     558997776694438      M 2016-04-29 16:08:27      2016-04-29   56   \n",
       "2500  558997776694438      M 2016-04-29 15:20:47      2016-04-29   56   \n",
       "\n",
       "        neighbourhood  scholarship  hypertension  diabetes  alcoholism  \\\n",
       "1     JARDIM DA PENHA            0             0         0           0   \n",
       "2500  JARDIM DA PENHA            0             0         0           0   \n",
       "\n",
       "      handicap  sms_received absent  returning_patient  \n",
       "1            0             0     No               True  \n",
       "2500         0             0     No               True  "
      ]
     },
     "execution_count": 26,
     "metadata": {},
     "output_type": "execute_result"
    }
   ],
   "source": [
    "#Testing the above with index 1 - which shows true in the returning_patient column\n",
    "df.query('patient_id == 558997776694438')"
   ]
  },
  {
   "cell_type": "code",
   "execution_count": 27,
   "metadata": {},
   "outputs": [
    {
     "data": {
      "text/html": [
       "<div>\n",
       "<style scoped>\n",
       "    .dataframe tbody tr th:only-of-type {\n",
       "        vertical-align: middle;\n",
       "    }\n",
       "\n",
       "    .dataframe tbody tr th {\n",
       "        vertical-align: top;\n",
       "    }\n",
       "\n",
       "    .dataframe thead th {\n",
       "        text-align: right;\n",
       "    }\n",
       "</style>\n",
       "<table border=\"1\" class=\"dataframe\">\n",
       "  <thead>\n",
       "    <tr style=\"text-align: right;\">\n",
       "      <th></th>\n",
       "      <th>patient_id</th>\n",
       "      <th>gender</th>\n",
       "      <th>scheduled_day</th>\n",
       "      <th>appointment_day</th>\n",
       "      <th>age</th>\n",
       "      <th>neighbourhood</th>\n",
       "      <th>scholarship</th>\n",
       "      <th>hypertension</th>\n",
       "      <th>diabetes</th>\n",
       "      <th>alcoholism</th>\n",
       "      <th>handicap</th>\n",
       "      <th>sms_received</th>\n",
       "      <th>absent</th>\n",
       "      <th>returning_patient</th>\n",
       "    </tr>\n",
       "  </thead>\n",
       "  <tbody>\n",
       "    <tr>\n",
       "      <th>15</th>\n",
       "      <td>99948393975</td>\n",
       "      <td>F</td>\n",
       "      <td>2016-04-26 08:47:27</td>\n",
       "      <td>2016-04-29</td>\n",
       "      <td>15</td>\n",
       "      <td>NOVA PALESTINA</td>\n",
       "      <td>0</td>\n",
       "      <td>0</td>\n",
       "      <td>0</td>\n",
       "      <td>0</td>\n",
       "      <td>0</td>\n",
       "      <td>1</td>\n",
       "      <td>No</td>\n",
       "      <td>False</td>\n",
       "    </tr>\n",
       "  </tbody>\n",
       "</table>\n",
       "</div>"
      ],
      "text/plain": [
       "     patient_id gender       scheduled_day appointment_day  age  \\\n",
       "15  99948393975      F 2016-04-26 08:47:27      2016-04-29   15   \n",
       "\n",
       "     neighbourhood  scholarship  hypertension  diabetes  alcoholism  handicap  \\\n",
       "15  NOVA PALESTINA            0             0         0           0         0   \n",
       "\n",
       "    sms_received absent  returning_patient  \n",
       "15             1     No              False  "
      ]
     },
     "execution_count": 27,
     "metadata": {},
     "output_type": "execute_result"
    }
   ],
   "source": [
    "#Testing the above with index 1 - which shows false in the returning_patient column to indicate a first timer\n",
    "df.query('patient_id == 99948393975')"
   ]
  },
  {
   "cell_type": "code",
   "execution_count": 28,
   "metadata": {},
   "outputs": [
    {
     "data": {
      "text/plain": [
       "True     72607\n",
       "False    37919\n",
       "Name: returning_patient, dtype: int64"
      ]
     },
     "execution_count": 28,
     "metadata": {},
     "output_type": "execute_result"
    }
   ],
   "source": [
    "#Showing the value count of returning_patient based on the values\n",
    "df.returning_patient.value_counts()"
   ]
  },
  {
   "cell_type": "code",
   "execution_count": 29,
   "metadata": {
    "scrolled": true
   },
   "outputs": [
    {
     "data": {
      "image/png": "[encoded data removed]",
      "text/plain": [
       "<matplotlib.figure.Figure at 0x7fa8faa60da0>"
      ]
     },
     "metadata": {
      "needs_background": "light"
     },
     "output_type": "display_data"
    }
   ],
   "source": [
    "#Check how many were new or returning\n",
    "new_df = df['returning_patient'].value_counts()[False]\n",
    "regular_df = df['returning_patient'].value_counts()[True]\n",
    "total_patients_df = df.patient_id.size\n",
    "\n",
    "proportion_new = new_df/total_patients_df\n",
    "proportion_regular = regular_df/total_patients_df\n",
    "\n",
    "#Set the x coordinate location for each rating group and and width of each bar.\n",
    "ind = np.arange(proportion_present)  # the x locations for the groups\n",
    "width = 4       # the width of the bars\n",
    "\n",
    "# plot bars\n",
    "new_bars = plt.bar(ind, proportion_new, width, color='r', alpha=.7, label='New')\n",
    "regular_bars = plt.bar(ind + width, proportion_regular, width, color='b', alpha=.7, label='Regular')\n",
    "\n",
    "# title and labels\n",
    "plt.ylabel('Proportion')\n",
    "plt.xlabel('Patients')\n",
    "plt.title('Proportion by Patients: New vs Regular')\n",
    "locations = [0,4]  # xtick locations\n",
    "labels = ['New', 'Regular']  # xtick labels\n",
    "plt.xticks(locations, labels)\n",
    "\n",
    "# legend\n",
    "plt.legend();"
   ]
  },
  {
   "cell_type": "markdown",
   "metadata": {},
   "source": [
    "#### The chart shows that more that 66% are regular patients while about 34% are new patients. So, the next step would be to see the attendance rate between this group."
   ]
  },
  {
   "cell_type": "code",
   "execution_count": 30,
   "metadata": {},
   "outputs": [
    {
     "data": {
      "text/plain": [
       "absent  returning_patient\n",
       "No      False                30801\n",
       "        True                 57406\n",
       "Yes     False                 7118\n",
       "        True                 15201\n",
       "dtype: int64"
      ]
     },
     "execution_count": 30,
     "metadata": {},
     "output_type": "execute_result"
    }
   ],
   "source": [
    "#Drawing conclusions between no_show value counts and returning_patient value counts using groupby\n",
    "df.groupby(['absent', 'returning_patient']).size()"
   ]
  },
  {
   "cell_type": "markdown",
   "metadata": {},
   "source": [
    "To be able to plot this output generated by the groupby function in a graph; I did a research on how to do a plot asides the df.groupby function(.plot) and came across this code on stackoverflow: <a href=\"https://stackoverflow.com/questions/45299305/how-to-plot-pandas-groupby-values-in-a-graph\" id=1>1</a>. I decided to use the crosstab function and read more on it as it really helps in data analysis: <a href=\"https://www.geeksforgeeks.org/using-pandas-crosstab-to-create-a-bar-plot/\" target=\"_blank\" id=2>2</a>"
   ]
  },
  {
   "cell_type": "code",
   "execution_count": 31,
   "metadata": {},
   "outputs": [
    {
     "data": {
      "image/png": "[encoded data removed]",
      "text/plain": [
       "<matplotlib.figure.Figure at 0x7fa8faac16d8>"
      ]
     },
     "metadata": {
      "needs_background": "light"
     },
     "output_type": "display_data"
    }
   ],
   "source": [
    "# Plot a bar graph\n",
    "# Using crosstab (It is a function that helps to view the relationship between two or more features)\n",
    "\n",
    "pd.crosstab(df['absent'],df['returning_patient'], normalize=True).plot.bar(figsize=(10, 6))\n",
    "\n",
    "# Set titles and axes\n",
    "plt.title('Attendance based on New vs Returning Patients', fontsize = 18)\n",
    "plt.xlabel('absent', fontsize=14)\n",
    "plt.ylabel('Proportion of Patients', fontsize=14)\n",
    "plt.legend(title='Patient', labels=['New', 'Returning']);"
   ]
  },
  {
   "cell_type": "markdown",
   "metadata": {},
   "source": [
    "As can be inferred from the output above, about 52% of the total patients that showed up for their appointment were regular (returning) patients while 28% were first timers. \n",
    "\n",
    "About 6% of new patients and 14% of returning patients didn't show up"
   ]
  },
  {
   "cell_type": "markdown",
   "metadata": {},
   "source": [
    "### What is the influence of gender on no-show appointments?"
   ]
  },
  {
   "cell_type": "code",
   "execution_count": 32,
   "metadata": {},
   "outputs": [
    {
     "data": {
      "text/plain": [
       "F    71839\n",
       "M    38687\n",
       "Name: gender, dtype: int64"
      ]
     },
     "execution_count": 32,
     "metadata": {},
     "output_type": "execute_result"
    }
   ],
   "source": [
    "#Proportion of male patients vs female patients\n",
    "df.gender.value_counts()\n"
   ]
  },
  {
   "cell_type": "code",
   "execution_count": 33,
   "metadata": {},
   "outputs": [
    {
     "data": {
      "image/png": "[encoded data removed]",
      "text/plain": [
       "<matplotlib.figure.Figure at 0x7fa8faaf1390>"
      ]
     },
     "metadata": {
      "needs_background": "light"
     },
     "output_type": "display_data"
    }
   ],
   "source": [
    "#Check how many were new or returning\n",
    "male_df = df['gender'].value_counts()['M']\n",
    "female_df = df['gender'].value_counts()['F']\n",
    "total_gender_df = df.gender.size\n",
    "\n",
    "proportion_male = male_df/total_gender_df\n",
    "proportion_female = female_df/total_gender_df\n",
    "\n",
    "#Set the x coordinate location for each rating group and and width of each bar.\n",
    "ind = np.arange(proportion_present)  # the x locations for the groups\n",
    "width = 4       # the width of the bars\n",
    "\n",
    "# plot bars\n",
    "male_bars = plt.bar(ind, proportion_male, width, color='r', alpha=.7, label='Male')\n",
    "female_bars = plt.bar(ind + width, proportion_female, width, color='b', alpha=.7, label='Female')\n",
    "\n",
    "# title and labels\n",
    "plt.ylabel('Proportion')\n",
    "plt.xlabel('Gender')\n",
    "plt.title('Proportion by Gender: Male vs Female')\n",
    "locations = [0,4]  # xtick locations\n",
    "labels = ['Male', 'Female']  # xtick labels\n",
    "plt.xticks(locations, labels)\n",
    "\n",
    "# legend\n",
    "plt.legend();"
   ]
  },
  {
   "cell_type": "markdown",
   "metadata": {},
   "source": [
    "About 35% of the patients are male and about 65% of the patients are female as deduced from the chart."
   ]
  },
  {
   "cell_type": "code",
   "execution_count": 34,
   "metadata": {},
   "outputs": [
    {
     "data": {
      "text/plain": [
       "absent  gender\n",
       "No      F         57245\n",
       "        M         30962\n",
       "Yes     F         14594\n",
       "        M          7725\n",
       "dtype: int64"
      ]
     },
     "execution_count": 34,
     "metadata": {},
     "output_type": "execute_result"
    }
   ],
   "source": [
    "#View size of gender\n",
    "df.groupby(['absent', 'gender']).size()"
   ]
  },
  {
   "cell_type": "code",
   "execution_count": 35,
   "metadata": {},
   "outputs": [
    {
     "data": {
      "image/png": "[encoded data removed]",
      "text/plain": [
       "<matplotlib.figure.Figure at 0x7fa8f9b6e668>"
      ]
     },
     "metadata": {},
     "output_type": "display_data"
    }
   ],
   "source": [
    "#Checking the proportion of gender\n",
    "#Creating labels\n",
    "labels = ['Female, Present', 'Female, Absent', 'Male, Present', 'Male, Absent']\n",
    "bin_edges = [57245, 14594, 30962, 7725 ]\n",
    "myexplode = [0.2, 0, 0, 0]\n",
    "colors = ['skyblue', 'red', 'green', 'orange']\n",
    "\n",
    "#Configure axis\n",
    "fig, ax = plt.subplots()\n",
    "ax.pie(bin_edges, labels=labels, colors=colors, explode=myexplode, autopct='%1.2f%%', shadow=True, startangle=90)\n",
    "\n",
    "#Title of the chart\n",
    "plt.title('Proportion of Female and Male Patients; Present vs Absent', fontsize= 20)\n",
    "\n",
    "#Configure legend\n",
    "plt.legend(title='Attendance', loc=\"upper right\", bbox_to_anchor=(1, 0, 0.5, 1))\n",
    "\n",
    "#plot piechart\n",
    "plt.show()"
   ]
  },
  {
   "cell_type": "markdown",
   "metadata": {},
   "source": [
    "The chart shows that about 51.79% female patients showed up for their appointments while 13.20% were absent. 28.01% of the male patients were present for their appointments while 6.99% male patients were absent"
   ]
  },
  {
   "cell_type": "markdown",
   "metadata": {},
   "source": [
    "### How many patients were in each age group and based on the age group, what is the no-show distribution?"
   ]
  },
  {
   "cell_type": "markdown",
   "metadata": {},
   "source": [
    "#Firstly, it is important to have an age range classification to have better analysis across the age groups.\n",
    "#I would be making use of the pandas' cut function to create the age groups."
   ]
  },
  {
   "cell_type": "code",
   "execution_count": 36,
   "metadata": {
    "scrolled": true
   },
   "outputs": [
    {
     "data": {
      "image/png": "[encoded data removed]",
      "text/plain": [
       "<matplotlib.figure.Figure at 0x7fa8f9bd5908>"
      ]
     },
     "metadata": {
      "needs_background": "light"
     },
     "output_type": "display_data"
    }
   ],
   "source": [
    "#A quick plot to show the age distribution\n",
    "df.age.hist();"
   ]
  },
  {
   "cell_type": "markdown",
   "metadata": {},
   "source": [
    "The histogram shows that the ages of 10 and below, ages between around 45 to 55years are predominant."
   ]
  },
  {
   "cell_type": "code",
   "execution_count": 37,
   "metadata": {},
   "outputs": [
    {
     "data": {
      "text/html": [
       "<div>\n",
       "<style scoped>\n",
       "    .dataframe tbody tr th:only-of-type {\n",
       "        vertical-align: middle;\n",
       "    }\n",
       "\n",
       "    .dataframe tbody tr th {\n",
       "        vertical-align: top;\n",
       "    }\n",
       "\n",
       "    .dataframe thead th {\n",
       "        text-align: right;\n",
       "    }\n",
       "</style>\n",
       "<table border=\"1\" class=\"dataframe\">\n",
       "  <thead>\n",
       "    <tr style=\"text-align: right;\">\n",
       "      <th></th>\n",
       "      <th>patient_id</th>\n",
       "      <th>gender</th>\n",
       "      <th>scheduled_day</th>\n",
       "      <th>appointment_day</th>\n",
       "      <th>age</th>\n",
       "      <th>neighbourhood</th>\n",
       "      <th>scholarship</th>\n",
       "      <th>hypertension</th>\n",
       "      <th>diabetes</th>\n",
       "      <th>alcoholism</th>\n",
       "      <th>handicap</th>\n",
       "      <th>sms_received</th>\n",
       "      <th>absent</th>\n",
       "      <th>returning_patient</th>\n",
       "      <th>age_group</th>\n",
       "    </tr>\n",
       "  </thead>\n",
       "  <tbody>\n",
       "    <tr>\n",
       "      <th>0</th>\n",
       "      <td>29872499824296</td>\n",
       "      <td>F</td>\n",
       "      <td>2016-04-29 18:38:08</td>\n",
       "      <td>2016-04-29</td>\n",
       "      <td>62</td>\n",
       "      <td>JARDIM DA PENHA</td>\n",
       "      <td>0</td>\n",
       "      <td>1</td>\n",
       "      <td>0</td>\n",
       "      <td>0</td>\n",
       "      <td>0</td>\n",
       "      <td>0</td>\n",
       "      <td>No</td>\n",
       "      <td>True</td>\n",
       "      <td>Senior Adult</td>\n",
       "    </tr>\n",
       "    <tr>\n",
       "      <th>1</th>\n",
       "      <td>558997776694438</td>\n",
       "      <td>M</td>\n",
       "      <td>2016-04-29 16:08:27</td>\n",
       "      <td>2016-04-29</td>\n",
       "      <td>56</td>\n",
       "      <td>JARDIM DA PENHA</td>\n",
       "      <td>0</td>\n",
       "      <td>0</td>\n",
       "      <td>0</td>\n",
       "      <td>0</td>\n",
       "      <td>0</td>\n",
       "      <td>0</td>\n",
       "      <td>No</td>\n",
       "      <td>True</td>\n",
       "      <td>Middle Age Adult</td>\n",
       "    </tr>\n",
       "    <tr>\n",
       "      <th>2</th>\n",
       "      <td>4262962299951</td>\n",
       "      <td>F</td>\n",
       "      <td>2016-04-29 16:19:04</td>\n",
       "      <td>2016-04-29</td>\n",
       "      <td>62</td>\n",
       "      <td>MATA DA PRAIA</td>\n",
       "      <td>0</td>\n",
       "      <td>0</td>\n",
       "      <td>0</td>\n",
       "      <td>0</td>\n",
       "      <td>0</td>\n",
       "      <td>0</td>\n",
       "      <td>No</td>\n",
       "      <td>True</td>\n",
       "      <td>Senior Adult</td>\n",
       "    </tr>\n",
       "    <tr>\n",
       "      <th>3</th>\n",
       "      <td>867951213174</td>\n",
       "      <td>F</td>\n",
       "      <td>2016-04-29 17:29:31</td>\n",
       "      <td>2016-04-29</td>\n",
       "      <td>8</td>\n",
       "      <td>PONTAL DE CAMBURI</td>\n",
       "      <td>0</td>\n",
       "      <td>0</td>\n",
       "      <td>0</td>\n",
       "      <td>0</td>\n",
       "      <td>0</td>\n",
       "      <td>0</td>\n",
       "      <td>No</td>\n",
       "      <td>True</td>\n",
       "      <td>Child</td>\n",
       "    </tr>\n",
       "    <tr>\n",
       "      <th>4</th>\n",
       "      <td>8841186448183</td>\n",
       "      <td>F</td>\n",
       "      <td>2016-04-29 16:07:23</td>\n",
       "      <td>2016-04-29</td>\n",
       "      <td>56</td>\n",
       "      <td>JARDIM DA PENHA</td>\n",
       "      <td>0</td>\n",
       "      <td>1</td>\n",
       "      <td>1</td>\n",
       "      <td>0</td>\n",
       "      <td>0</td>\n",
       "      <td>0</td>\n",
       "      <td>No</td>\n",
       "      <td>False</td>\n",
       "      <td>Middle Age Adult</td>\n",
       "    </tr>\n",
       "  </tbody>\n",
       "</table>\n",
       "</div>"
      ],
      "text/plain": [
       "        patient_id gender       scheduled_day appointment_day  age  \\\n",
       "0   29872499824296      F 2016-04-29 18:38:08      2016-04-29   62   \n",
       "1  558997776694438      M 2016-04-29 16:08:27      2016-04-29   56   \n",
       "2    4262962299951      F 2016-04-29 16:19:04      2016-04-29   62   \n",
       "3     867951213174      F 2016-04-29 17:29:31      2016-04-29    8   \n",
       "4    8841186448183      F 2016-04-29 16:07:23      2016-04-29   56   \n",
       "\n",
       "       neighbourhood  scholarship  hypertension  diabetes  alcoholism  \\\n",
       "0    JARDIM DA PENHA            0             1         0           0   \n",
       "1    JARDIM DA PENHA            0             0         0           0   \n",
       "2      MATA DA PRAIA            0             0         0           0   \n",
       "3  PONTAL DE CAMBURI            0             0         0           0   \n",
       "4    JARDIM DA PENHA            0             1         1           0   \n",
       "\n",
       "   handicap  sms_received absent  returning_patient         age_group  \n",
       "0         0             0     No               True      Senior Adult  \n",
       "1         0             0     No               True  Middle Age Adult  \n",
       "2         0             0     No               True      Senior Adult  \n",
       "3         0             0     No               True             Child  \n",
       "4         0             0     No              False  Middle Age Adult  "
      ]
     },
     "execution_count": 37,
     "metadata": {},
     "output_type": "execute_result"
    }
   ],
   "source": [
    "# Bin edges that will be used to \"cut\" the data into groups\n",
    "bin_edges = [0, 10, 15, 20, 40, 60, 80, 115]\n",
    "\n",
    "# Labels for the ages\n",
    "age_classification = [ 'Child', 'Teenager', 'Youth', 'Young Adult', 'Middle Age Adult', 'Senior Adult', 'Aged']\n",
    "\n",
    "# Creates age group column\n",
    "df['age_group'] = pd.cut(df['age'], bin_edges, labels=age_classification, include_lowest=True)\n",
    "\n",
    "# Checks for successful creation of this column\n",
    "df.head(5)"
   ]
  },
  {
   "cell_type": "code",
   "execution_count": 38,
   "metadata": {},
   "outputs": [
    {
     "data": {
      "text/plain": [
       "Middle Age Adult    30081\n",
       "Young Adult         28835\n",
       "Child               18749\n",
       "Senior Adult        16910\n",
       "Youth                7380\n",
       "Teenager             5719\n",
       "Aged                 2852\n",
       "Name: age_group, dtype: int64"
      ]
     },
     "execution_count": 38,
     "metadata": {},
     "output_type": "execute_result"
    }
   ],
   "source": [
    "#Checking the total number of patients via each age group.\n",
    "df.age_group.value_counts()"
   ]
  },
  {
   "cell_type": "code",
   "execution_count": 39,
   "metadata": {},
   "outputs": [
    {
     "data": {
      "text/plain": [
       "absent  age_group       \n",
       "No      Child               14961\n",
       "        Teenager             4259\n",
       "        Youth                5532\n",
       "        Young Adult         22209\n",
       "        Middle Age Adult    24490\n",
       "        Senior Adult        14373\n",
       "        Aged                 2383\n",
       "Yes     Child                3788\n",
       "        Teenager             1460\n",
       "        Youth                1848\n",
       "        Young Adult          6626\n",
       "        Middle Age Adult     5591\n",
       "        Senior Adult         2537\n",
       "        Aged                  469\n",
       "dtype: int64"
      ]
     },
     "execution_count": 39,
     "metadata": {},
     "output_type": "execute_result"
    }
   ],
   "source": [
    "#Checking the number of patients via each age group that showed up for appointment or not.\n",
    "df.groupby(['absent', 'age_group']).size()"
   ]
  },
  {
   "cell_type": "code",
   "execution_count": 40,
   "metadata": {
    "scrolled": true
   },
   "outputs": [
    {
     "data": {
      "image/png": "[encoded data removed]",
      "text/plain": [
       "<matplotlib.figure.Figure at 0x7fa8f9ad7080>"
      ]
     },
     "metadata": {
      "needs_background": "light"
     },
     "output_type": "display_data"
    }
   ],
   "source": [
    "# Plot a bar graph to show the variation between the attendance values across the age groups\n",
    "pd.crosstab(df['age_group'],df['absent'], normalize=True).plot.bar(figsize=(10, 6));\n",
    "\n",
    "plt.title('Proportion of Attendance by Age Group', fontsize=18)\n",
    "plt.xlabel('Age Group', fontsize=16)\n",
    "plt.ylabel('Number of patients', fontsize=16)\n",
    "plt.xticks(rotation=90)\n",
    "plt.show()\n",
    "\n"
   ]
  },
  {
   "cell_type": "markdown",
   "metadata": {},
   "source": [
    "As seen from on the chart; the predominant groups that showed up for their appointments are Middle Age Adults (41-60 years), Young Adults (21-40years), Children (10years below) respectively and the ratio of attendance is quite significant compared to the other age groups."
   ]
  },
  {
   "cell_type": "markdown",
   "metadata": {},
   "source": [
    "### What is the proportion of the gender in each age group?"
   ]
  },
  {
   "cell_type": "code",
   "execution_count": 41,
   "metadata": {},
   "outputs": [
    {
     "data": {
      "image/png": "[encoded data removed]",
      "text/plain": [
       "<matplotlib.figure.Figure at 0x7fa8f9a88438>"
      ]
     },
     "metadata": {
      "needs_background": "light"
     },
     "output_type": "display_data"
    }
   ],
   "source": [
    "#Plotting Age group vs gender\n",
    "pd.crosstab(df['age_group'],df['gender'], normalize=True).plot.bar(figsize=(10, 6))\n",
    "\n",
    "plt.title('Proportion of Gender by Age Group', fontsize=18)\n",
    "plt.xlabel('Age Group', fontsize=16)\n",
    "plt.ylabel('Number of patients', fontsize=16)\n",
    "plt.xticks(rotation=90)\n",
    "plt.show();"
   ]
  },
  {
   "cell_type": "markdown",
   "metadata": {},
   "source": [
    "As seen from the above, all age groups except the child age group contain more female patients than male patients. It is quite significant in the young adult, middle age adult and senior adult groups."
   ]
  },
  {
   "cell_type": "markdown",
   "metadata": {},
   "source": [
    "### What is the relationship between gender, age_group and how does it influence attendance?"
   ]
  },
  {
   "cell_type": "code",
   "execution_count": 42,
   "metadata": {},
   "outputs": [
    {
     "data": {
      "image/png": "[encoded data removed]",
      "text/plain": [
       "<matplotlib.figure.Figure at 0x7fa8f9b02668>"
      ]
     },
     "metadata": {
      "needs_background": "light"
     },
     "output_type": "display_data"
    }
   ],
   "source": [
    "#Plot the gender, age_group, absent variables to see the influence on attendance\n",
    "df.pivot_table(index=['gender', 'age_group'], columns=['absent'], values='patient_id', aggfunc='mean', fill_value=0).plot(kind='bar', figsize=(15,6));"
   ]
  },
  {
   "cell_type": "markdown",
   "metadata": {},
   "source": [
    "As seen from the relationship between the three variables - gender, age group and absence, there are almost equal proportions across the groups for attendance from both genders although, the male aged age group shows records more absence in comparison with the opposite gender in the same age group. Same applies male young adult group too."
   ]
  },
  {
   "cell_type": "markdown",
   "metadata": {},
   "source": [
    "### Does the scholarship (welfare) program influence a patient to show up for appointments?"
   ]
  },
  {
   "cell_type": "code",
   "execution_count": 43,
   "metadata": {},
   "outputs": [
    {
     "data": {
      "text/plain": [
       "0    99665\n",
       "1    10861\n",
       "Name: scholarship, dtype: int64"
      ]
     },
     "execution_count": 43,
     "metadata": {},
     "output_type": "execute_result"
    }
   ],
   "source": [
    "#View the variations in size between those that received scholarship or not.\n",
    "df.scholarship.value_counts()"
   ]
  },
  {
   "cell_type": "code",
   "execution_count": 44,
   "metadata": {},
   "outputs": [
    {
     "data": {
      "text/plain": [
       "absent  scholarship\n",
       "No      0              79924\n",
       "        1               8283\n",
       "Yes     0              19741\n",
       "        1               2578\n",
       "dtype: int64"
      ]
     },
     "execution_count": 44,
     "metadata": {},
     "output_type": "execute_result"
    }
   ],
   "source": [
    "#Checking the ratio of patients on scholarship that showed up for appointment or not.\n",
    "df.groupby(['absent', 'scholarship']).size()"
   ]
  },
  {
   "cell_type": "code",
   "execution_count": 45,
   "metadata": {},
   "outputs": [
    {
     "data": {
      "image/png": "[encoded data removed]",
      "text/plain": [
       "<matplotlib.figure.Figure at 0x7fa8f9941a90>"
      ]
     },
     "metadata": {
      "needs_background": "light"
     },
     "output_type": "display_data"
    }
   ],
   "source": [
    "# Plot a bar graph based on groupby data\n",
    "# Using crosstab (It is a function that helps to view the relationship between two or more features)\n",
    "\n",
    "pd.crosstab(df['scholarship'],df['absent'], normalize=True).plot.bar()\n",
    "\n",
    "x=[0,1]\n",
    "xlabels=['No', 'Yes']\n",
    "\n",
    "# Set titles and axes\n",
    "plt.title('Variation of Scholarship with Attendance', fontsize = 18)\n",
    "plt.xticks(x, xlabels, rotation='horizontal')\n",
    "plt.ylabel('No of Patients', fontsize=14)\n",
    "plt.legend(title='Absent', labels=[\"No\", \"Yes\"]);"
   ]
  },
  {
   "cell_type": "markdown",
   "metadata": {},
   "source": [
    "The graph above shows that about 70% showed up for their medical appointments and are not on welfare (scholarship) in comparison to those that were on scholarship (about 8%) and didn't show up."
   ]
  },
  {
   "cell_type": "markdown",
   "metadata": {},
   "source": [
    "### What is the relationship between scholarship, returning_patient, gender, age_group and how does it influence attendance?"
   ]
  },
  {
   "cell_type": "code",
   "execution_count": 46,
   "metadata": {},
   "outputs": [
    {
     "data": {
      "image/png": "[encoded data removed]",
      "text/plain": [
       "<matplotlib.figure.Figure at 0x7fa8f98fc198>"
      ]
     },
     "metadata": {
      "needs_background": "light"
     },
     "output_type": "display_data"
    }
   ],
   "source": [
    "# Plotting \n",
    "category_list = ['gender', 'returning_patient', 'age_group']\n",
    "\n",
    "fig = plt.figure(figsize=(16, 11))\n",
    "for i, var in enumerate(category_list):\n",
    "    ax = fig.add_subplot(2, 3, i+1)\n",
    "    df.pivot_table(index=[var, 'absent'], columns=['scholarship'], values='patient_id', aggfunc='sum', fill_value=0).plot(ax=ax, kind='bar');"
   ]
  },
  {
   "cell_type": "markdown",
   "metadata": {},
   "source": [
    "As seen from the charts above; \n",
    " \n",
    "*Gender*\n",
    " - there are more females on scholarship than males.\n",
    " - As scholarship decreases, attendance also decreases.\n",
    " - Also, there is a percentage of those who are not on scholarship also having high attendance rate than those on scholarship. Scholarship doesn't seem to influence patient's attendance to appointment\n",
    " \n",
    "*Returning/New Patients*\n",
    " - there are more regular patients on scholarship than new patients\n",
    " - As scholarship decreases, attendance also decreases.\n",
    " - Also, there is a percentage of those who are not on scholarship also having high attendance rate than those on scholarship. Scholarship doesn't seem to influence patient's attendance to appointment\n",
    " \n",
    "*Age Group*\n",
    " - Children, young adult, middle-aged adult group are the ones predominantly on scholarship however, the proportion with those not on scholarship is significantly large.\n",
    " - Also, there is a percentage of those who are not on scholarship also having high attendance rate than those on scholarship. Scholarship doesn't seem to influence patient's attendance to appointment"
   ]
  },
  {
   "cell_type": "markdown",
   "metadata": {},
   "source": [
    "### Does text reminder influence a patient to show up for appointments?"
   ]
  },
  {
   "cell_type": "code",
   "execution_count": 47,
   "metadata": {},
   "outputs": [
    {
     "data": {
      "text/plain": [
       "0    75044\n",
       "1    35482\n",
       "Name: sms_received, dtype: int64"
      ]
     },
     "execution_count": 47,
     "metadata": {},
     "output_type": "execute_result"
    }
   ],
   "source": [
    "df.sms_received.value_counts()"
   ]
  },
  {
   "cell_type": "markdown",
   "metadata": {},
   "source": [
    "From this output, the amount of messages sent is small compared to amount not sent."
   ]
  },
  {
   "cell_type": "code",
   "execution_count": 48,
   "metadata": {},
   "outputs": [
    {
     "data": {
      "text/plain": [
       "absent  sms_received\n",
       "No      0               62509\n",
       "        1               25698\n",
       "Yes     0               12535\n",
       "        1                9784\n",
       "dtype: int64"
      ]
     },
     "execution_count": 48,
     "metadata": {},
     "output_type": "execute_result"
    }
   ],
   "source": [
    "#Checking the ratio of patients on scholarship that showed up for appointment or not.\n",
    "df.groupby(['absent', 'sms_received']).size()"
   ]
  },
  {
   "cell_type": "code",
   "execution_count": 49,
   "metadata": {},
   "outputs": [
    {
     "data": {
      "image/png": "[encoded data removed]",
      "text/plain": [
       "<matplotlib.figure.Figure at 0x7fa8f9ae4710>"
      ]
     },
     "metadata": {
      "needs_background": "light"
     },
     "output_type": "display_data"
    }
   ],
   "source": [
    "# Plot a bar graph based on groupby data\n",
    "# Using crosstab (It is a function that helps to view the relationship between two or more features)\n",
    "\n",
    "pd.crosstab(df['sms_received'],df['absent'], normalize=True).plot.bar()\n",
    "\n",
    "x=[0,1]\n",
    "xlabels=['No', 'Yes']\n",
    "\n",
    "# Set titles and axes\n",
    "plt.title('Text Message Reminder Received vs Attendance', fontsize = 18)\n",
    "plt.xticks(x, xlabels, rotation='horizontal')\n",
    "plt.ylabel('no of patients', fontsize=14)\n",
    "plt.legend(title='Absent', labels=[\"No\", \"Yes\"]);"
   ]
  },
  {
   "cell_type": "markdown",
   "metadata": {},
   "source": [
    "As seen from the chart above, sms_received didn't influence attendance as there is little difference between patients that didn't show up for their appointments without receiving a text message and those that also didn't show up even after getting the message"
   ]
  },
  {
   "cell_type": "markdown",
   "metadata": {},
   "source": [
    "### Do health challenges (alcoholism, diabetes, hypertension) influence a patient to show up for appointments?"
   ]
  },
  {
   "cell_type": "markdown",
   "metadata": {},
   "source": [
    "#### Alcoholism Plotting"
   ]
  },
  {
   "cell_type": "code",
   "execution_count": 50,
   "metadata": {},
   "outputs": [
    {
     "data": {
      "text/plain": [
       "absent  alcoholism\n",
       "No      0             85524\n",
       "        1              2683\n",
       "Yes     0             21642\n",
       "        1               677\n",
       "dtype: int64"
      ]
     },
     "execution_count": 50,
     "metadata": {},
     "output_type": "execute_result"
    }
   ],
   "source": [
    "#Checking the ratio of alcoholism that showed up for appointment or not.\n",
    "df.groupby(['absent', 'alcoholism']).size()"
   ]
  },
  {
   "cell_type": "markdown",
   "metadata": {},
   "source": [
    "From this groupby function output, alcoholism doesn't really influence attendance as those with alcoholic challenges showed (2683) than those who have the same challenge and didn't show up. Also, the amount of those without alcoholic challenges (21642) that didn't show up is quite high and from this output, we can deduce that alcohol doesn't have an influence on the attendance."
   ]
  },
  {
   "cell_type": "code",
   "execution_count": 51,
   "metadata": {},
   "outputs": [
    {
     "data": {
      "image/png": "[encoded data removed]",
      "text/plain": [
       "<matplotlib.figure.Figure at 0x7fa8f9c33be0>"
      ]
     },
     "metadata": {
      "needs_background": "light"
     },
     "output_type": "display_data"
    }
   ],
   "source": [
    "#Plotting graph of the proportion of alcoholism against attendance\n",
    "pd.crosstab(df['alcoholism'],df['absent'], normalize=True).plot.bar()\n",
    "\n",
    "#creating x-axis variables\n",
    "x=[0,1]\n",
    "xlabels=['No', 'Yes']\n",
    "\n",
    "# Set titles and axes\n",
    "plt.title('Proportion of Alcoholism with Attendance', fontsize = 18)\n",
    "plt.xticks(x, xlabels, rotation='horizontal')\n",
    "plt.ylabel('No of Patients', fontsize=14)\n",
    "plt.legend(title='Absent', labels=[\"No\", \"Yes\"]);"
   ]
  },
  {
   "cell_type": "code",
   "execution_count": 52,
   "metadata": {},
   "outputs": [
    {
     "data": {
      "image/png": "[encoded data removed]",
      "text/plain": [
       "<matplotlib.figure.Figure at 0x7fa8f994a048>"
      ]
     },
     "metadata": {
      "needs_background": "light"
     },
     "output_type": "display_data"
    }
   ],
   "source": [
    "# Plotting independent variables against dependent variable\n",
    "category_list = ['gender', 'returning_patient', 'age_group', 'sms_received']\n",
    "\n",
    "fig = plt.figure(figsize=(16, 11))\n",
    "for i, var in enumerate(category_list):\n",
    "    ax = fig.add_subplot(2, 2, i+1)\n",
    "    df.pivot_table(index=[var, 'absent'], columns=['alcoholism'], values='patient_id', aggfunc='sum', fill_value=0).plot(ax=ax, kind='bar')\n",
    "\n",
    "#Spacing the plots\n",
    "plt.subplots_adjust(left=0.1,\n",
    "                bottom=0.1, \n",
    "                right=0.9, \n",
    "                top=0.9, \n",
    "                wspace=0.4, \n",
    "                hspace=0.4)\n",
    "plt.show()"
   ]
  },
  {
   "cell_type": "markdown",
   "metadata": {},
   "source": [
    "From the plots, alcoholism doesn't influence attendance. There more male patients with the alcoholic challenge than female patients. Just five age groups (from young adult to senior adults) have alcoholism issue. "
   ]
  },
  {
   "cell_type": "markdown",
   "metadata": {},
   "source": [
    "#### Hypertension Plotting"
   ]
  },
  {
   "cell_type": "code",
   "execution_count": 53,
   "metadata": {},
   "outputs": [
    {
     "data": {
      "text/plain": [
       "absent  hypertension\n",
       "No      0               70178\n",
       "        1               18029\n",
       "Yes     0               18547\n",
       "        1                3772\n",
       "dtype: int64"
      ]
     },
     "execution_count": 53,
     "metadata": {},
     "output_type": "execute_result"
    }
   ],
   "source": [
    "#Checking the ratio of hypertension that showed up for appointment or not.\n",
    "df.groupby(['absent', 'hypertension']).size()"
   ]
  },
  {
   "cell_type": "code",
   "execution_count": 54,
   "metadata": {},
   "outputs": [
    {
     "data": {
      "image/png": "[encoded data removed]",
      "text/plain": [
       "<matplotlib.figure.Figure at 0x7fa8f9886d30>"
      ]
     },
     "metadata": {
      "needs_background": "light"
     },
     "output_type": "display_data"
    }
   ],
   "source": [
    "#Plotting graph of the proportion of hypertension against attendance\n",
    "pd.crosstab(df['hypertension'],df['absent'], normalize=True).plot.bar()\n",
    "\n",
    "#creating x-axis variables\n",
    "x=[0,1]\n",
    "xlabels=['No', 'Yes']\n",
    "\n",
    "# Set titles and axes\n",
    "plt.title('Proportion of Hypertension with Attendance', fontsize = 18)\n",
    "plt.xticks(x, xlabels, rotation='horizontal')\n",
    "plt.ylabel('No of Patients', fontsize=14)\n",
    "plt.legend(title='Absent', labels=[\"No\", \"Yes\"]);"
   ]
  },
  {
   "cell_type": "code",
   "execution_count": 55,
   "metadata": {},
   "outputs": [
    {
     "data": {
      "image/png": "[encoded data removed]",
      "text/plain": [
       "<matplotlib.figure.Figure at 0x7fa8f974c1d0>"
      ]
     },
     "metadata": {
      "needs_background": "light"
     },
     "output_type": "display_data"
    }
   ],
   "source": [
    "# Plotting \n",
    "category_list = ['gender', 'returning_patient', 'age_group', 'sms_received']\n",
    "\n",
    "fig = plt.figure(figsize=(16, 11))\n",
    "for i, var in enumerate(category_list):\n",
    "    ax = fig.add_subplot(2, 2, i+1)\n",
    "    df.pivot_table(index=[var, 'absent'], columns=['hypertension'], values='patient_id', aggfunc='sum', fill_value=0).plot(ax=ax, kind='bar')\n",
    "\n",
    "#Spacing the plots\n",
    "plt.subplots_adjust(left=0.1,\n",
    "                bottom=0.1, \n",
    "                right=0.9, \n",
    "                top=0.9, \n",
    "                wspace=0.4, \n",
    "                hspace=0.4)\n",
    "plt.show()"
   ]
  },
  {
   "cell_type": "markdown",
   "metadata": {},
   "source": [
    "As seen from the charts above; \n",
    " *Gender*\n",
    " - there are more hypertensive females than males and hypertension is quite significant.\n",
    " - 70% of the female patients that are not hypertensive showed up for their appointments\n",
    " - About 18% of the female patients that are hypertensive showed up for their appointments\n",
    " - Almost 40% of the male patients are not hypertensive and showed up for their appointments\n",
    " - About 9% of the male patients are hypertensive and showed up for their appointments\n",
    " \n",
    " *Returning/New Patients*\n",
    " - there are more regular patients that are hypertensive than new patients\n",
    " - hypertension doesn't seem to influence attendance\n",
    " \n",
    " *Age Group*\n",
    " - there are four age groups that have hypertension values: Young Adult, Middle Age Adult, Senior Adult, Aged\n",
    " - There are more hypertensive patients than non-hypertensive patients in the senior adult and aged age groups and this seems to be an influencing factor regarding attending as seen in the chart.\n",
    " \n",
    " *SMS Received*\n",
    " - From the graph, it can be deduced it doesn't have an influence on attendance."
   ]
  },
  {
   "cell_type": "markdown",
   "metadata": {},
   "source": [
    "#### Diabetes Plotting"
   ]
  },
  {
   "cell_type": "code",
   "execution_count": 56,
   "metadata": {
    "scrolled": true
   },
   "outputs": [
    {
     "data": {
      "text/plain": [
       "absent  diabetes\n",
       "No      0           81694\n",
       "        1            6513\n",
       "Yes     0           20889\n",
       "        1            1430\n",
       "dtype: int64"
      ]
     },
     "execution_count": 56,
     "metadata": {},
     "output_type": "execute_result"
    }
   ],
   "source": [
    "#Checking the ratio of diabetes that showed up for appointment or not.\n",
    "df.groupby(['absent', 'diabetes']).size()"
   ]
  },
  {
   "cell_type": "code",
   "execution_count": 57,
   "metadata": {},
   "outputs": [
    {
     "data": {
      "image/png": "[encoded data removed]",
      "text/plain": [
       "<matplotlib.figure.Figure at 0x7fa8f99adc88>"
      ]
     },
     "metadata": {
      "needs_background": "light"
     },
     "output_type": "display_data"
    }
   ],
   "source": [
    "#Plotting graph of the proportion of diabetes against attendance\n",
    "pd.crosstab(df['diabetes'],df['absent'], normalize=True).plot.bar()\n",
    "\n",
    "#creating x-axis variables\n",
    "x=[0,1]\n",
    "xlabels=['No', 'Yes']\n",
    "\n",
    "# Set titles and axes\n",
    "plt.title('Proportion of Diabetes with Attendance', fontsize = 18)\n",
    "plt.xticks(x, xlabels, rotation='horizontal')\n",
    "plt.ylabel('No of Patients', fontsize=14)\n",
    "plt.legend(title='Absent', labels=[\"No\", \"Yes\"]);"
   ]
  },
  {
   "cell_type": "markdown",
   "metadata": {},
   "source": [
    "From the plot, it can be deduced most of the patients are not diabetic and also diabetes do not influence attendance."
   ]
  },
  {
   "cell_type": "code",
   "execution_count": 58,
   "metadata": {},
   "outputs": [
    {
     "data": {
      "image/png": "[encoded data removed]",
      "text/plain": [
       "<matplotlib.figure.Figure at 0x7fa8f94944a8>"
      ]
     },
     "metadata": {
      "needs_background": "light"
     },
     "output_type": "display_data"
    }
   ],
   "source": [
    "# Plotting \n",
    "category_list = ['gender', 'returning_patient', 'age_group', 'sms_received']\n",
    "\n",
    "fig = plt.figure(figsize=(16, 11))\n",
    "for i, var in enumerate(category_list):\n",
    "    ax = fig.add_subplot(2, 2, i+1)\n",
    "    df.pivot_table(index=[var, 'absent'], columns=['diabetes'], values='patient_id', aggfunc='sum', fill_value=0).plot(ax=ax, kind='bar')\n",
    "\n",
    "#spacing the plots\n",
    "plt.subplots_adjust(left=0.1,\n",
    "                bottom=0.1, \n",
    "                right=0.9, \n",
    "                top=0.9, \n",
    "                wspace=0.4, \n",
    "                hspace=0.4)\n",
    "plt.show()"
   ]
  },
  {
   "cell_type": "markdown",
   "metadata": {},
   "source": [
    "As seen from the charts above; \n",
    " *Gender*\n",
    " - there are more diabetic females than males.\n",
    " \n",
    " *Returning/New Patients*\n",
    " - there are more regular patients that are diabetic than new patients\n",
    " \n",
    " *Age Group*\n",
    " - there are four age groups that have diabetes values: Young Adult, Middle Age Adult, Senior Adult, Aged\n",
    " - There are more diabetic patients than non-diabetic patients in the Middle Age Adult and Senior Adult age groups.\n",
    " \n",
    " *SMS received*\n",
    " - Diabetes doesn't have an influence on attendance\n",
    "    \n",
    "Across all plots, it can be deduced that diabetes doesn't have an influence on attendance."
   ]
  },
  {
   "cell_type": "markdown",
   "metadata": {},
   "source": [
    "<a id='conclusions'></a>\n",
    "## Conclusions\n",
    "\n",
    "Having analysed the dataset, here are my findings:\n",
    "\n",
    "- Regarding the attendance of the patients, only 80% of the patients showed up for their appointments while 20% were absent.\n",
    "\n",
    "\n",
    "- 66% of the patients are returning patients and 34% are new patients and the returning patients have higher rate of attendance.\n",
    "\n",
    "\n",
    "- There are more female patients than male patients generally across all age groups and based on attendance, about 52% of females had a higher attendance than males (28%)\n",
    "\n",
    "\n",
    "- Regarding the scholarship (welfare), patients on scholarship (the Bolsa Familia welfare) are not many at all considering the size total of all the patients. The limitation here though is that we cannot ascertain if people were previously in the welfare and were removed as there are conditions required for families to remain in the program or alternatively, if there are factors that determine the welfare suchas income of patients that do not need the welfare program since the program is to alleviate poverty as seen here <a href=\"#3\">3</a>\n",
    "\n",
    "\n",
    "- Regarding the relationship between scholarship and attendance, gender, age_grade, and status of patient (new or regular); there are more females on scholarship than males, more regular patients on scholarship than new patients and generally, children, young adult, middle-aged adult age groups are the ones predominantly on scholarship\n",
    "\n",
    "\n",
    "- The volume of text message sent is low considering the importance of notification. The limitation is that we cannot ascertain if people needed to signup to receive notifications or there is a payment for it. More information would have been needed for this variable.\n",
    "\n",
    "\n",
    "- Regarding the health challenges, there are more male patients affected by alcoholism than females although generally, alcoholism doesn't influence the attendance. Female patients are more diabetic than male although diabetes is generally really low amongst patients.\n",
    "\n",
    "\n",
    "- Regarding hypertension health challenge, there are more hypertensive females than males and 18% of the female patients that are hypertensive showed up for their appointments while about 9% of the male patients are hypertensive and showed up for their appointments. There are more regular patients that are hypertensive than new patients. Hypertension seem to be more significant as patients age especially in the Senior Adult and Aged age groups as the chance of having high blood pressure increases as one gets older, especially isolated systolic hypertension.<a href=#4>4</a>"
   ]
  },
  {
   "cell_type": "markdown",
   "metadata": {},
   "source": [
    "#### References\n",
    "\n",
    "1. <a href=\"https://stackoverflow.com/questions/45299305/how-to-plot-pandas-groupby-values-in-a-graph\" id=\"1\">Using Groupby values to plot</a>. \n",
    "\n",
    "2. <a href=\"https://www.geeksforgeeks.org/using-pandas-crosstab-to-create-a-bar-plot/\" target=\"_blank\" id=\"2\">Crosstab</a>\n",
    "\n",
    "3. <a href='https://en.wikipedia.org/wiki/Bolsa_Fam%C3%ADlia' target=\"_blank\" id=\"3\">Bolsa Familia</a>\n",
    "\n",
    "4. <a hef=\"https://www.nia.nih.gov/health/high-blood-pressure-and-older-adults#:~:text=High%20blood%20pressure%2C%20or%20hypertension,habits%20and%20feel%20just%20fine.\" id=\"4\">Hypertension Prevalence, Awareness and Blood Pressure Control in Matao, Brazil: A Pilot Study in Partnership With the Brazilian Family Health Strategy Program</a>"
   ]
  },
  {
   "cell_type": "code",
   "execution_count": 59,
   "metadata": {},
   "outputs": [
    {
     "data": {
      "text/plain": [
       "0"
      ]
     },
     "execution_count": 59,
     "metadata": {},
     "output_type": "execute_result"
    }
   ],
   "source": [
    "from subprocess import call\n",
    "call(['python', '-m', 'nbconvert', 'Investigate_a_Dataset.ipynb'])"
   ]
  }
 ],
 "metadata": {
  "kernelspec": {
   "display_name": "Python 3",
   "language": "python",
   "name": "python3"
  },
  "language_info": {
   "codemirror_mode": {
    "name": "ipython",
    "version": 3
   },
   "file_extension": ".py",
   "mimetype": "text/x-python",
   "name": "python",
   "nbconvert_exporter": "python",
   "pygments_lexer": "ipython3",
   "version": "3.6.3"
  }
 },
 "nbformat": 4,
 "nbformat_minor": 2
}
